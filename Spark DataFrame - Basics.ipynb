{
 "cells": [
  {
   "cell_type": "markdown",
   "metadata": {},
   "source": [
    "# Spark DataFrame - Basics\n",
    "\n",
    "Let's start off with the fundamentals of Spark DataFrame. \n",
    "\n",
    "Objective: In this exercise, you'll find out how to start a spark session, read in data, explore the data and manipuluate the data (using DataFrame syntax as well as SQL syntax). Let's get started! "
   ]
  },
  {
   "cell_type": "code",
   "execution_count": 1,
   "metadata": {},
   "outputs": [
    {
     "name": "stderr",
     "output_type": "stream",
     "text": [
      "WARNING: An illegal reflective access operation has occurred\n",
      "WARNING: Illegal reflective access by org.apache.spark.unsafe.Platform (file:/home/ubuntu/spark-3.2.1-bin-hadoop2.7/jars/spark-unsafe_2.12-3.2.1.jar) to constructor java.nio.DirectByteBuffer(long,int)\n",
      "WARNING: Please consider reporting this to the maintainers of org.apache.spark.unsafe.Platform\n",
      "WARNING: Use --illegal-access=warn to enable warnings of further illegal reflective access operations\n",
      "WARNING: All illegal access operations will be denied in a future release\n",
      "Using Spark's default log4j profile: org/apache/spark/log4j-defaults.properties\n",
      "Setting default log level to \"WARN\".\n",
      "To adjust logging level use sc.setLogLevel(newLevel). For SparkR, use setLogLevel(newLevel).\n",
      "23/10/03 04:22:50 WARN NativeCodeLoader: Unable to load native-hadoop library for your platform... using builtin-java classes where applicable\n"
     ]
    }
   ],
   "source": [
    "# Must be included at the beginning of each new notebook. Remember to change the app name.\n",
    "import findspark\n",
    "findspark.init('/home/ubuntu/spark-3.2.1-bin-hadoop2.7')\n",
    "import pyspark\n",
    "from pyspark.sql import SparkSession\n",
    "spark = SparkSession.builder.appName('basics').getOrCreate()"
   ]
  },
  {
   "cell_type": "code",
   "execution_count": 2,
   "metadata": {},
   "outputs": [
    {
     "name": "stderr",
     "output_type": "stream",
     "text": [
      "                                                                                \r"
     ]
    }
   ],
   "source": [
    "# Let's read in the data. Note that it's in the format of JSON.\n",
    "df = spark.read.csv('heart_data.csv',header=True, inferSchema=True)"
   ]
  },
  {
   "cell_type": "markdown",
   "metadata": {},
   "source": [
    "## Data Exploration"
   ]
  },
  {
   "cell_type": "code",
   "execution_count": 5,
   "metadata": {},
   "outputs": [
    {
     "name": "stdout",
     "output_type": "stream",
     "text": [
      "+-----+---+-----+------+------+------+-----+-----+-----------+----+-----+----+------+\n",
      "|index| id|  age|gender|height|weight|ap_hi|ap_lo|cholesterol|gluc|smoke|alco|active|\n",
      "+-----+---+-----+------+------+------+-----+-----+-----------+----+-----+----+------+\n",
      "|    0|  0|18393|     2|   168|  62.0|  110|   80|          1|   1|    0|   0|     1|\n",
      "|    1|  1|20228|     1|   156|  85.0|  140|   90|          3|   1|    0|   0|     1|\n",
      "|    2|  2|18857|     1|   165|  64.0|  130|   70|          3|   1|    0|   0|     0|\n",
      "|    3|  3|17623|     2|   169|  82.0|  150|  100|          1|   1|    0|   0|     1|\n",
      "|    4|  4|17474|     1|   156|  56.0|  100|   60|          1|   1|    0|   0|     0|\n",
      "|    5|  8|21914|     1|   151|  67.0|  120|   80|          2|   2|    0|   0|     0|\n",
      "|    6|  9|22113|     1|   157|  93.0|  130|   80|          3|   1|    0|   0|     1|\n",
      "|    7| 12|22584|     2|   178|  95.0|  130|   90|          3|   3|    0|   0|     1|\n",
      "|    8| 13|17668|     1|   158|  71.0|  110|   70|          1|   1|    0|   0|     1|\n",
      "|    9| 14|19834|     1|   164|  68.0|  110|   60|          1|   1|    0|   0|     0|\n",
      "|   10| 15|22530|     1|   169|  80.0|  120|   80|          1|   1|    0|   0|     1|\n",
      "|   11| 16|18815|     2|   173|  60.0|  120|   80|          1|   1|    0|   0|     1|\n",
      "|   12| 18|14791|     2|   165|  60.0|  120|   80|          1|   1|    0|   0|     0|\n",
      "|   13| 21|19809|     1|   158|  78.0|  110|   70|          1|   1|    0|   0|     1|\n",
      "|   14| 23|14532|     2|   181|  95.0|  130|   90|          1|   1|    1|   1|     1|\n",
      "|   15| 24|16782|     2|   172| 112.0|  120|   80|          1|   1|    0|   0|     0|\n",
      "|   16| 25|21296|     1|   170|  75.0|  130|   70|          1|   1|    0|   0|     0|\n",
      "|   17| 27|16747|     1|   158|  52.0|  110|   70|          1|   3|    0|   0|     1|\n",
      "|   18| 28|17482|     1|   154|  68.0|  100|   70|          1|   1|    0|   0|     0|\n",
      "|   19| 29|21755|     2|   162|  56.0|  120|   70|          1|   1|    1|   0|     1|\n",
      "+-----+---+-----+------+------+------+-----+-----+-----------+----+-----+----+------+\n",
      "only showing top 20 rows\n",
      "\n"
     ]
    },
    {
     "data": {
      "text/plain": [
       "['index',\n",
       " 'id',\n",
       " 'age',\n",
       " 'gender',\n",
       " 'height',\n",
       " 'weight',\n",
       " 'ap_hi',\n",
       " 'ap_lo',\n",
       " 'cholesterol',\n",
       " 'gluc',\n",
       " 'smoke',\n",
       " 'alco',\n",
       " 'active']"
      ]
     },
     "execution_count": 5,
     "metadata": {},
     "output_type": "execute_result"
    }
   ],
   "source": [
    "# The show method allows you visualise DataFrames. We can see that there are two columns. \n",
    "df.show()\n",
    "\n",
    "# You could also try this. \n",
    "df.columns"
   ]
  },
  {
   "cell_type": "code",
   "execution_count": 7,
   "metadata": {},
   "outputs": [
    {
     "data": {
      "text/html": [
       "<div>\n",
       "<style scoped>\n",
       "    .dataframe tbody tr th:only-of-type {\n",
       "        vertical-align: middle;\n",
       "    }\n",
       "\n",
       "    .dataframe tbody tr th {\n",
       "        vertical-align: top;\n",
       "    }\n",
       "\n",
       "    .dataframe thead th {\n",
       "        text-align: right;\n",
       "    }\n",
       "</style>\n",
       "<table border=\"1\" class=\"dataframe\">\n",
       "  <thead>\n",
       "    <tr style=\"text-align: right;\">\n",
       "      <th></th>\n",
       "      <th>summary</th>\n",
       "      <th>index</th>\n",
       "      <th>id</th>\n",
       "      <th>age</th>\n",
       "      <th>gender</th>\n",
       "      <th>height</th>\n",
       "      <th>weight</th>\n",
       "      <th>ap_hi</th>\n",
       "      <th>ap_lo</th>\n",
       "      <th>cholesterol</th>\n",
       "      <th>gluc</th>\n",
       "      <th>smoke</th>\n",
       "      <th>alco</th>\n",
       "      <th>active</th>\n",
       "    </tr>\n",
       "  </thead>\n",
       "  <tbody>\n",
       "    <tr>\n",
       "      <th>0</th>\n",
       "      <td>count</td>\n",
       "      <td>70000</td>\n",
       "      <td>70000</td>\n",
       "      <td>70000</td>\n",
       "      <td>70000</td>\n",
       "      <td>70000</td>\n",
       "      <td>70000</td>\n",
       "      <td>70000</td>\n",
       "      <td>70000</td>\n",
       "      <td>70000</td>\n",
       "      <td>70000</td>\n",
       "      <td>70000</td>\n",
       "      <td>70000</td>\n",
       "      <td>70000</td>\n",
       "    </tr>\n",
       "    <tr>\n",
       "      <th>1</th>\n",
       "      <td>mean</td>\n",
       "      <td>34999.5</td>\n",
       "      <td>49972.4199</td>\n",
       "      <td>19468.865814285713</td>\n",
       "      <td>1.3495714285714286</td>\n",
       "      <td>164.35922857142856</td>\n",
       "      <td>74.20569</td>\n",
       "      <td>128.8172857142857</td>\n",
       "      <td>96.63041428571428</td>\n",
       "      <td>1.3668714285714285</td>\n",
       "      <td>1.226457142857143</td>\n",
       "      <td>0.08812857142857143</td>\n",
       "      <td>0.053771428571428574</td>\n",
       "      <td>0.8037285714285715</td>\n",
       "    </tr>\n",
       "    <tr>\n",
       "      <th>2</th>\n",
       "      <td>stddev</td>\n",
       "      <td>20207.403758688713</td>\n",
       "      <td>28851.302323172742</td>\n",
       "      <td>2467.251667241397</td>\n",
       "      <td>0.47683801558286265</td>\n",
       "      <td>8.210126364538075</td>\n",
       "      <td>14.395756678511347</td>\n",
       "      <td>154.0114194560919</td>\n",
       "      <td>188.47253029638918</td>\n",
       "      <td>0.6802503486993823</td>\n",
       "      <td>0.5722702766138456</td>\n",
       "      <td>0.28348381676993667</td>\n",
       "      <td>0.22556770360410555</td>\n",
       "      <td>0.3971790635049267</td>\n",
       "    </tr>\n",
       "    <tr>\n",
       "      <th>3</th>\n",
       "      <td>min</td>\n",
       "      <td>0</td>\n",
       "      <td>0</td>\n",
       "      <td>10798</td>\n",
       "      <td>1</td>\n",
       "      <td>55</td>\n",
       "      <td>10.0</td>\n",
       "      <td>-150</td>\n",
       "      <td>-70</td>\n",
       "      <td>1</td>\n",
       "      <td>1</td>\n",
       "      <td>0</td>\n",
       "      <td>0</td>\n",
       "      <td>0</td>\n",
       "    </tr>\n",
       "    <tr>\n",
       "      <th>4</th>\n",
       "      <td>max</td>\n",
       "      <td>69999</td>\n",
       "      <td>99999</td>\n",
       "      <td>23713</td>\n",
       "      <td>2</td>\n",
       "      <td>250</td>\n",
       "      <td>200.0</td>\n",
       "      <td>16020</td>\n",
       "      <td>11000</td>\n",
       "      <td>3</td>\n",
       "      <td>3</td>\n",
       "      <td>1</td>\n",
       "      <td>1</td>\n",
       "      <td>1</td>\n",
       "    </tr>\n",
       "  </tbody>\n",
       "</table>\n",
       "</div>"
      ],
      "text/plain": [
       "  summary               index                  id                 age  \\\n",
       "0   count               70000               70000               70000   \n",
       "1    mean             34999.5          49972.4199  19468.865814285713   \n",
       "2  stddev  20207.403758688713  28851.302323172742   2467.251667241397   \n",
       "3     min                   0                   0               10798   \n",
       "4     max               69999               99999               23713   \n",
       "\n",
       "                gender              height              weight  \\\n",
       "0                70000               70000               70000   \n",
       "1   1.3495714285714286  164.35922857142856            74.20569   \n",
       "2  0.47683801558286265   8.210126364538075  14.395756678511347   \n",
       "3                    1                  55                10.0   \n",
       "4                    2                 250               200.0   \n",
       "\n",
       "               ap_hi               ap_lo         cholesterol  \\\n",
       "0              70000               70000               70000   \n",
       "1  128.8172857142857   96.63041428571428  1.3668714285714285   \n",
       "2  154.0114194560919  188.47253029638918  0.6802503486993823   \n",
       "3               -150                 -70                   1   \n",
       "4              16020               11000                   3   \n",
       "\n",
       "                 gluc                smoke                  alco  \\\n",
       "0               70000                70000                 70000   \n",
       "1   1.226457142857143  0.08812857142857143  0.053771428571428574   \n",
       "2  0.5722702766138456  0.28348381676993667   0.22556770360410555   \n",
       "3                   1                    0                     0   \n",
       "4                   3                    1                     1   \n",
       "\n",
       "               active  \n",
       "0               70000  \n",
       "1  0.8037285714285715  \n",
       "2  0.3971790635049267  \n",
       "3                   0  \n",
       "4                   1  "
      ]
     },
     "execution_count": 7,
     "metadata": {},
     "output_type": "execute_result"
    }
   ],
   "source": [
    "# We can use the describe method get some general statistics on our data too. Remember to show the DataFrame!\n",
    "# But what about data type?\n",
    "df.describe().toPandas()\n"
   ]
  },
  {
   "cell_type": "code",
   "execution_count": 5,
   "metadata": {},
   "outputs": [
    {
     "name": "stdout",
     "output_type": "stream",
     "text": [
      "root\n",
      " |-- age: long (nullable = true)\n",
      " |-- name: string (nullable = true)\n",
      "\n"
     ]
    }
   ],
   "source": [
    "# For type, we can use print schema. \n",
    "# But wait! What if you want to change the format of the data? Maybe change age to an integer instead of long?\n",
    "df.printSchema()"
   ]
  },
  {
   "cell_type": "markdown",
   "metadata": {},
   "source": [
    "## Data Manipulation"
   ]
  },
  {
   "cell_type": "code",
   "execution_count": 8,
   "metadata": {},
   "outputs": [],
   "source": [
    "# Let's import in the relevant types.\n",
    "from pyspark.sql.types import (StructField,StringType,IntegerType,StructType)"
   ]
  },
  {
   "cell_type": "code",
   "execution_count": 7,
   "metadata": {},
   "outputs": [],
   "source": []
  },
  {
   "cell_type": "code",
   "execution_count": 8,
   "metadata": {},
   "outputs": [
    {
     "name": "stdout",
     "output_type": "stream",
     "text": [
      "root\n",
      " |-- age: integer (nullable = true)\n",
      " |-- name: string (nullable = true)\n",
      "\n"
     ]
    }
   ],
   "source": []
  },
  {
   "cell_type": "code",
   "execution_count": 18,
   "metadata": {
    "scrolled": true
   },
   "outputs": [
    {
     "data": {
      "image/png": "[encoded data removed]",
      "text/plain": [
       "<Figure size 432x288 with 1 Axes>"
      ]
     },
     "metadata": {
      "needs_background": "light"
     },
     "output_type": "display_data"
    },
    {
     "data": {
      "image/png": "[encoded data removed]",
      "text/plain": [
       "<Figure size 432x288 with 1 Axes>"
      ]
     },
     "metadata": {
      "needs_background": "light"
     },
     "output_type": "display_data"
    }
   ],
   "source": [
    "# We can also select various columns from a DataFrame. \n",
    "pandas_df = df.select('Active').toPandas()\n",
    "\n",
    "import matplotlib.pyplot as plt\n",
    "\n",
    "plt.figure(figsize=(6,4))\n",
    "plt.hist(pandas_df['Active'], bins=30, edgecolor='black')\n",
    "plt.title('Active Distribution')\n",
    "plt.xlabel('Active')\n",
    "plt.ylabel('Count')\n",
    "plt.grid(True)\n",
    "plt.show()\n",
    "\n",
    "pandas_df = df.select('ap_lo').toPandas()\n",
    "ap_hi_data = df.select('ap_lo').toPandas()\n",
    "plt.figure(figsize=(6,4))\n",
    "plt.boxplot(ap_hi_data['ap_lo'], vert=True, notch=True)\n",
    "plt.title('Boxplot of ap_lo')\n",
    "plt.ylabel('ap_lo')\n",
    "plt.show()\n"
   ]
  },
  {
   "cell_type": "code",
   "execution_count": 8,
   "metadata": {},
   "outputs": [
    {
     "name": "stderr",
     "output_type": "stream",
     "text": [
      "                                                                                \r"
     ]
    },
    {
     "data": {
      "text/html": [
       "<div>\n",
       "<style scoped>\n",
       "    .dataframe tbody tr th:only-of-type {\n",
       "        vertical-align: middle;\n",
       "    }\n",
       "\n",
       "    .dataframe tbody tr th {\n",
       "        vertical-align: top;\n",
       "    }\n",
       "\n",
       "    .dataframe thead th {\n",
       "        text-align: right;\n",
       "    }\n",
       "</style>\n",
       "<table border=\"1\" class=\"dataframe\">\n",
       "  <thead>\n",
       "    <tr style=\"text-align: right;\">\n",
       "      <th></th>\n",
       "      <th>summary</th>\n",
       "      <th>index</th>\n",
       "      <th>id</th>\n",
       "      <th>age</th>\n",
       "      <th>gender</th>\n",
       "      <th>height</th>\n",
       "      <th>weight</th>\n",
       "      <th>ap_hi</th>\n",
       "      <th>ap_lo</th>\n",
       "      <th>cholesterol</th>\n",
       "      <th>gluc</th>\n",
       "      <th>smoke</th>\n",
       "      <th>alco</th>\n",
       "      <th>active</th>\n",
       "    </tr>\n",
       "  </thead>\n",
       "  <tbody>\n",
       "    <tr>\n",
       "      <th>0</th>\n",
       "      <td>count</td>\n",
       "      <td>68609</td>\n",
       "      <td>68609</td>\n",
       "      <td>68609</td>\n",
       "      <td>68609</td>\n",
       "      <td>68609</td>\n",
       "      <td>68609</td>\n",
       "      <td>68609</td>\n",
       "      <td>68609</td>\n",
       "      <td>68609</td>\n",
       "      <td>68609</td>\n",
       "      <td>68609</td>\n",
       "      <td>68609</td>\n",
       "      <td>68609</td>\n",
       "    </tr>\n",
       "    <tr>\n",
       "      <th>1</th>\n",
       "      <td>mean</td>\n",
       "      <td>34998.23020303459</td>\n",
       "      <td>49970.61369499628</td>\n",
       "      <td>19465.420105234007</td>\n",
       "      <td>1.3487734845282688</td>\n",
       "      <td>164.364937544637</td>\n",
       "      <td>74.1323805914676</td>\n",
       "      <td>126.69103178883236</td>\n",
       "      <td>81.33725896019473</td>\n",
       "      <td>1.3647043390808786</td>\n",
       "      <td>1.225815855062747</td>\n",
       "      <td>0.08793307000539288</td>\n",
       "      <td>0.05341864769928144</td>\n",
       "      <td>0.8034660175778688</td>\n",
       "    </tr>\n",
       "    <tr>\n",
       "      <th>2</th>\n",
       "      <td>stddev</td>\n",
       "      <td>20201.646287580574</td>\n",
       "      <td>28843.05782403767</td>\n",
       "      <td>2467.5501796900703</td>\n",
       "      <td>0.47658561830277735</td>\n",
       "      <td>8.18266945287181</td>\n",
       "      <td>14.326953523984836</td>\n",
       "      <td>16.583793906163795</td>\n",
       "      <td>9.428657983669689</td>\n",
       "      <td>0.6790565299910482</td>\n",
       "      <td>0.5717833014820166</td>\n",
       "      <td>0.2831996013009668</td>\n",
       "      <td>0.2248684788756169</td>\n",
       "      <td>0.3973797651848832</td>\n",
       "    </tr>\n",
       "    <tr>\n",
       "      <th>3</th>\n",
       "      <td>min</td>\n",
       "      <td>0</td>\n",
       "      <td>0</td>\n",
       "      <td>10798</td>\n",
       "      <td>1</td>\n",
       "      <td>55</td>\n",
       "      <td>11.0</td>\n",
       "      <td>90</td>\n",
       "      <td>40</td>\n",
       "      <td>1</td>\n",
       "      <td>1</td>\n",
       "      <td>0</td>\n",
       "      <td>0</td>\n",
       "      <td>0</td>\n",
       "    </tr>\n",
       "    <tr>\n",
       "      <th>4</th>\n",
       "      <td>max</td>\n",
       "      <td>69999</td>\n",
       "      <td>99999</td>\n",
       "      <td>23713</td>\n",
       "      <td>2</td>\n",
       "      <td>250</td>\n",
       "      <td>200.0</td>\n",
       "      <td>220</td>\n",
       "      <td>140</td>\n",
       "      <td>3</td>\n",
       "      <td>3</td>\n",
       "      <td>1</td>\n",
       "      <td>1</td>\n",
       "      <td>1</td>\n",
       "    </tr>\n",
       "  </tbody>\n",
       "</table>\n",
       "</div>"
      ],
      "text/plain": [
       "  summary               index                 id                 age  \\\n",
       "0   count               68609              68609               68609   \n",
       "1    mean   34998.23020303459  49970.61369499628  19465.420105234007   \n",
       "2  stddev  20201.646287580574  28843.05782403767  2467.5501796900703   \n",
       "3     min                   0                  0               10798   \n",
       "4     max               69999              99999               23713   \n",
       "\n",
       "                gender            height              weight  \\\n",
       "0                68609             68609               68609   \n",
       "1   1.3487734845282688  164.364937544637    74.1323805914676   \n",
       "2  0.47658561830277735  8.18266945287181  14.326953523984836   \n",
       "3                    1                55                11.0   \n",
       "4                    2               250               200.0   \n",
       "\n",
       "                ap_hi              ap_lo         cholesterol  \\\n",
       "0               68609              68609               68609   \n",
       "1  126.69103178883236  81.33725896019473  1.3647043390808786   \n",
       "2  16.583793906163795  9.428657983669689  0.6790565299910482   \n",
       "3                  90                 40                   1   \n",
       "4                 220                140                   3   \n",
       "\n",
       "                 gluc                smoke                 alco  \\\n",
       "0               68609                68609                68609   \n",
       "1   1.225815855062747  0.08793307000539288  0.05341864769928144   \n",
       "2  0.5717833014820166   0.2831996013009668   0.2248684788756169   \n",
       "3                   1                    0                    0   \n",
       "4                   3                    1                    1   \n",
       "\n",
       "               active  \n",
       "0               68609  \n",
       "1  0.8034660175778688  \n",
       "2  0.3973797651848832  \n",
       "3                   0  \n",
       "4                   1  "
      ]
     },
     "execution_count": 8,
     "metadata": {},
     "output_type": "execute_result"
    }
   ],
   "source": [
    "from pyspark.sql import functions as F\n",
    "\n",
    "# Filter based on the conditions provided\n",
    "valid_blood_pressure = (df['ap_hi'] >= 90) & (df['ap_hi'] <= 220) & \\\n",
    "                       (df['ap_lo'] >= 40) & (df['ap_lo'] <= 140)\n",
    "\n",
    "# Apply the filter to the DataFrame\n",
    "filtered_df = df.filter(valid_blood_pressure)\n",
    "filtered_df.describe().toPandas()\n",
    "\n"
   ]
  },
  {
   "cell_type": "markdown",
   "metadata": {},
   "source": [
    "## Introducing SQL\n",
    "We can query a DataFrame as if it were a table! Let's see a few examples of that below:"
   ]
  },
  {
   "cell_type": "code",
   "execution_count": 10,
   "metadata": {},
   "outputs": [
    {
     "name": "stderr",
     "output_type": "stream",
     "text": [
      "                                                                                \r"
     ]
    },
    {
     "data": {
      "text/html": [
       "<div>\n",
       "<style scoped>\n",
       "    .dataframe tbody tr th:only-of-type {\n",
       "        vertical-align: middle;\n",
       "    }\n",
       "\n",
       "    .dataframe tbody tr th {\n",
       "        vertical-align: top;\n",
       "    }\n",
       "\n",
       "    .dataframe thead th {\n",
       "        text-align: right;\n",
       "    }\n",
       "</style>\n",
       "<table border=\"1\" class=\"dataframe\">\n",
       "  <thead>\n",
       "    <tr style=\"text-align: right;\">\n",
       "      <th></th>\n",
       "      <th>summary</th>\n",
       "      <th>index</th>\n",
       "      <th>id</th>\n",
       "      <th>age</th>\n",
       "      <th>gender</th>\n",
       "      <th>height</th>\n",
       "      <th>weight</th>\n",
       "      <th>ap_hi</th>\n",
       "      <th>ap_lo</th>\n",
       "      <th>cholesterol</th>\n",
       "      <th>gluc</th>\n",
       "      <th>smoke</th>\n",
       "      <th>alco</th>\n",
       "      <th>active</th>\n",
       "    </tr>\n",
       "  </thead>\n",
       "  <tbody>\n",
       "    <tr>\n",
       "      <th>0</th>\n",
       "      <td>count</td>\n",
       "      <td>68135</td>\n",
       "      <td>68135</td>\n",
       "      <td>68135</td>\n",
       "      <td>68135</td>\n",
       "      <td>68135</td>\n",
       "      <td>68135</td>\n",
       "      <td>68135</td>\n",
       "      <td>68135</td>\n",
       "      <td>68135</td>\n",
       "      <td>68135</td>\n",
       "      <td>68135</td>\n",
       "      <td>68135</td>\n",
       "      <td>68135</td>\n",
       "    </tr>\n",
       "    <tr>\n",
       "      <th>1</th>\n",
       "      <td>mean</td>\n",
       "      <td>34994.78720187862</td>\n",
       "      <td>49965.72089234608</td>\n",
       "      <td>19467.39646290453</td>\n",
       "      <td>1.3482791516841564</td>\n",
       "      <td>164.3420268584428</td>\n",
       "      <td>73.72431789829017</td>\n",
       "      <td>126.59266162765098</td>\n",
       "      <td>81.28676891465473</td>\n",
       "      <td>1.3628091289352022</td>\n",
       "      <td>1.2238790636236883</td>\n",
       "      <td>0.0875174286343289</td>\n",
       "      <td>0.05307110882806194</td>\n",
       "      <td>0.8036104791957144</td>\n",
       "    </tr>\n",
       "    <tr>\n",
       "      <th>2</th>\n",
       "      <td>stddev</td>\n",
       "      <td>20199.226628022392</td>\n",
       "      <td>28839.61860344482</td>\n",
       "      <td>2467.103921121898</td>\n",
       "      <td>0.47642849996010683</td>\n",
       "      <td>8.128609109514718</td>\n",
       "      <td>13.421770777003237</td>\n",
       "      <td>16.51400442981671</td>\n",
       "      <td>9.398164874664051</td>\n",
       "      <td>0.6777320457346168</td>\n",
       "      <td>0.5697709440056147</td>\n",
       "      <td>0.28259387890421145</td>\n",
       "      <td>0.22417694756616977</td>\n",
       "      <td>0.39726942148915695</td>\n",
       "    </tr>\n",
       "    <tr>\n",
       "      <th>3</th>\n",
       "      <td>min</td>\n",
       "      <td>0</td>\n",
       "      <td>0</td>\n",
       "      <td>10798</td>\n",
       "      <td>1</td>\n",
       "      <td>55</td>\n",
       "      <td>30.0</td>\n",
       "      <td>90</td>\n",
       "      <td>40</td>\n",
       "      <td>1</td>\n",
       "      <td>1</td>\n",
       "      <td>0</td>\n",
       "      <td>0</td>\n",
       "      <td>0</td>\n",
       "    </tr>\n",
       "    <tr>\n",
       "      <th>4</th>\n",
       "      <td>max</td>\n",
       "      <td>69999</td>\n",
       "      <td>99999</td>\n",
       "      <td>23713</td>\n",
       "      <td>2</td>\n",
       "      <td>250</td>\n",
       "      <td>120.0</td>\n",
       "      <td>220</td>\n",
       "      <td>140</td>\n",
       "      <td>3</td>\n",
       "      <td>3</td>\n",
       "      <td>1</td>\n",
       "      <td>1</td>\n",
       "      <td>1</td>\n",
       "    </tr>\n",
       "  </tbody>\n",
       "</table>\n",
       "</div>"
      ],
      "text/plain": [
       "  summary               index                 id                age  \\\n",
       "0   count               68135              68135              68135   \n",
       "1    mean   34994.78720187862  49965.72089234608  19467.39646290453   \n",
       "2  stddev  20199.226628022392  28839.61860344482  2467.103921121898   \n",
       "3     min                   0                  0              10798   \n",
       "4     max               69999              99999              23713   \n",
       "\n",
       "                gender             height              weight  \\\n",
       "0                68135              68135               68135   \n",
       "1   1.3482791516841564  164.3420268584428   73.72431789829017   \n",
       "2  0.47642849996010683  8.128609109514718  13.421770777003237   \n",
       "3                    1                 55                30.0   \n",
       "4                    2                250               120.0   \n",
       "\n",
       "                ap_hi              ap_lo         cholesterol  \\\n",
       "0               68135              68135               68135   \n",
       "1  126.59266162765098  81.28676891465473  1.3628091289352022   \n",
       "2   16.51400442981671  9.398164874664051  0.6777320457346168   \n",
       "3                  90                 40                   1   \n",
       "4                 220                140                   3   \n",
       "\n",
       "                 gluc                smoke                 alco  \\\n",
       "0               68135                68135                68135   \n",
       "1  1.2238790636236883   0.0875174286343289  0.05307110882806194   \n",
       "2  0.5697709440056147  0.28259387890421145  0.22417694756616977   \n",
       "3                   1                    0                    0   \n",
       "4                   3                    1                    1   \n",
       "\n",
       "                active  \n",
       "0                68135  \n",
       "1   0.8036104791957144  \n",
       "2  0.39726942148915695  \n",
       "3                    0  \n",
       "4                    1  "
      ]
     },
     "execution_count": 10,
     "metadata": {},
     "output_type": "execute_result"
    }
   ],
   "source": [
    "valid_weight = ((filtered_df['weight'] >= 30) & (filtered_df['weight'] <= 120))\n",
    "# Apply the filter to the DataFrame\n",
    "filtered_df = filtered_df.filter(valid_weight)\n",
    "filtered_df.describe().toPandas()"
   ]
  },
  {
   "cell_type": "code",
   "execution_count": 19,
   "metadata": {},
   "outputs": [
    {
     "name": "stderr",
     "output_type": "stream",
     "text": [
      "                                                                                \r"
     ]
    }
   ],
   "source": [
    "valid_height = ((filtered_df['height'] >= 130) & (filtered_df['height'] <= 210))\n",
    "# Apply the filter to the DataFrame\n",
    "filtered_df = filtered_df.filter(valid_height)\n",
    "filtered_df.describe().toPandas()\n",
    "filtered_df.write.csv('filtered_data.csv', header=True)"
   ]
  },
  {
   "cell_type": "code",
   "execution_count": null,
   "metadata": {},
   "outputs": [],
   "source": [
    "\n",
    "\n"
   ]
  },
  {
   "cell_type": "markdown",
   "metadata": {},
   "source": [
    "Now that we're done with this tutorial, let's move on to Spark DataFrame Operations!"
   ]
  }
 ],
 "metadata": {
  "kernelspec": {
   "display_name": "Python 3 (ipykernel)",
   "language": "python",
   "name": "python3"
  },
  "language_info": {
   "codemirror_mode": {
    "name": "ipython",
    "version": 3
   },
   "file_extension": ".py",
   "mimetype": "text/x-python",
   "name": "python",
   "nbconvert_exporter": "python",
   "pygments_lexer": "ipython3",
   "version": "3.10.4"
  }
 },
 "nbformat": 4,
 "nbformat_minor": 2
}
