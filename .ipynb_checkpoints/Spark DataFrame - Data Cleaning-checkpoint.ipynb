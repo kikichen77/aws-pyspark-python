{
 "cells": [
  {
   "cell_type": "markdown",
   "metadata": {},
   "source": [
    "# Spark DataFrame - Data Cleaning\n",
    "There are three options when dealing with missing data: \n",
    "1. Changing the data to null\n",
    "2. Drop the data point (or entire row)\n",
    "3. Fill it in with a different value\n",
    "\n",
    "These points are dependent on your requirements. \n",
    "\n",
    "Objective: Let's explore our options when it comes to cleaning a basic dataset."
   ]
  },
  {
   "cell_type": "code",
   "execution_count": 1,
   "metadata": {},
   "outputs": [
    {
     "name": "stderr",
     "output_type": "stream",
     "text": [
      "WARNING: An illegal reflective access operation has occurred\n",
      "WARNING: Illegal reflective access by org.apache.spark.unsafe.Platform (file:/home/ubuntu/spark-3.2.1-bin-hadoop2.7/jars/spark-unsafe_2.12-3.2.1.jar) to constructor java.nio.DirectByteBuffer(long,int)\n",
      "WARNING: Please consider reporting this to the maintainers of org.apache.spark.unsafe.Platform\n",
      "WARNING: Use --illegal-access=warn to enable warnings of further illegal reflective access operations\n",
      "WARNING: All illegal access operations will be denied in a future release\n",
      "Using Spark's default log4j profile: org/apache/spark/log4j-defaults.properties\n",
      "Setting default log level to \"WARN\".\n",
      "To adjust logging level use sc.setLogLevel(newLevel). For SparkR, use setLogLevel(newLevel).\n",
      "23/10/09 08:09:23 WARN NativeCodeLoader: Unable to load native-hadoop library for your platform... using builtin-java classes where applicable\n"
     ]
    }
   ],
   "source": [
    "# Must be included at the beginning of each new notebook. Remember to change the app name.\n",
    "import findspark\n",
    "findspark.init('/home/ubuntu/spark-3.2.1-bin-hadoop2.7')\n",
    "import pyspark\n",
    "from pyspark.sql import SparkSession\n",
    "spark = SparkSession.builder.appName('missing').getOrCreate()"
   ]
  },
  {
   "cell_type": "code",
   "execution_count": 2,
   "metadata": {},
   "outputs": [
    {
     "name": "stderr",
     "output_type": "stream",
     "text": [
      "                                                                                \r"
     ]
    },
    {
     "name": "stdout",
     "output_type": "stream",
     "text": [
      "+---+-----+-----+------+------+------+-----+-----+-----------+----+-----+----+------+------+\n",
      "| id|index|  age|gender|height|weight|ap_hi|ap_lo|cholesterol|gluc|smoke|alco|active|cardio|\n",
      "+---+-----+-----+------+------+------+-----+-----+-----------+----+-----+----+------+------+\n",
      "|  0|    0|18393|     2|   168|  62.0|  110|   80|          1|   1|    0|   0|     1|     0|\n",
      "|  1|    1|20228|     1|   156|  85.0|  140|   90|          3|   1|    0|   0|     1|     1|\n",
      "|  2|    2|18857|     1|   165|  64.0|  130|   70|          3|   1|    0|   0|     0|     1|\n",
      "|  3|    3|17623|     2|   169|  82.0|  150|  100|          1|   1|    0|   0|     1|     1|\n",
      "|  4|    4|17474|     1|   156|  56.0|  100|   60|          1|   1|    0|   0|     0|     0|\n",
      "|  8|    5|21914|     1|   151|  67.0|  120|   80|          2|   2|    0|   0|     0|     0|\n",
      "|  9|    6|22113|     1|   157|  93.0|  130|   80|          3|   1|    0|   0|     1|     0|\n",
      "| 12|    7|22584|     2|   178|  95.0|  130|   90|          3|   3|    0|   0|     1|     1|\n",
      "| 13|    8|17668|     1|   158|  71.0|  110|   70|          1|   1|    0|   0|     1|     0|\n",
      "| 14|    9|19834|     1|   164|  68.0|  110|   60|          1|   1|    0|   0|     0|     0|\n",
      "| 15|   10|22530|     1|   169|  80.0|  120|   80|          1|   1|    0|   0|     1|     0|\n",
      "| 16|   11|18815|     2|   173|  60.0|  120|   80|          1|   1|    0|   0|     1|     0|\n",
      "| 18|   12|14791|     2|   165|  60.0|  120|   80|          1|   1|    0|   0|     0|     0|\n",
      "| 21|   13|19809|     1|   158|  78.0|  110|   70|          1|   1|    0|   0|     1|     0|\n",
      "| 23|   14|14532|     2|   181|  95.0|  130|   90|          1|   1|    1|   1|     1|     0|\n",
      "| 24|   15|16782|     2|   172| 112.0|  120|   80|          1|   1|    0|   0|     0|     1|\n",
      "| 25|   16|21296|     1|   170|  75.0|  130|   70|          1|   1|    0|   0|     0|     0|\n",
      "| 27|   17|16747|     1|   158|  52.0|  110|   70|          1|   3|    0|   0|     1|     0|\n",
      "| 28|   18|17482|     1|   154|  68.0|  100|   70|          1|   1|    0|   0|     0|     0|\n",
      "| 29|   19|21755|     2|   162|  56.0|  120|   70|          1|   1|    1|   0|     1|     0|\n",
      "+---+-----+-----+------+------+------+-----+-----+-----------+----+-----+----+------+------+\n",
      "only showing top 20 rows\n",
      "\n"
     ]
    }
   ],
   "source": [
    "# Importing data which has a header. Schema is automatically configured.\n",
    "df = spark.read.csv('modify1.csv', header=True, inferSchema=True)\n",
    "heart_data_situation = spark.read.csv('heart-data-situation.csv', header=True, inferSchema=True)\n",
    "\n",
    "merged_df = df.join(heart_data_situation, on=\"id\", how=\"inner\")  \n",
    "\n",
    "# Let's see the data. You'll notice nulls.\n",
    "merged_df.show()"
   ]
  },
  {
   "cell_type": "code",
   "execution_count": 3,
   "metadata": {},
   "outputs": [
    {
     "name": "stderr",
     "output_type": "stream",
     "text": [
      "                                                                                \r"
     ]
    },
    {
     "name": "stdout",
     "output_type": "stream",
     "text": [
      "+-----------+----------+\n",
      "|    Feature|Importance|\n",
      "+-----------+----------+\n",
      "|      ap_hi|      0.47|\n",
      "|      ap_lo|      0.32|\n",
      "|        age|       0.1|\n",
      "|cholesterol|      0.08|\n",
      "|     weight|      0.02|\n",
      "|       gluc|       0.0|\n",
      "|     height|       0.0|\n",
      "|      smoke|       0.0|\n",
      "|       alco|       0.0|\n",
      "|      index|       0.0|\n",
      "|     active|       0.0|\n",
      "|         id|       0.0|\n",
      "+-----------+----------+\n",
      "\n"
     ]
    },
    {
     "name": "stderr",
     "output_type": "stream",
     "text": [
      "\r",
      "[Stage 28:>                                                         (0 + 2) / 2]\r",
      "\r",
      "                                                                                \r"
     ]
    }
   ],
   "source": [
    "from pyspark.ml.classification import RandomForestClassifier\n",
    "from pyspark.ml.feature import VectorAssembler\n",
    "\n",
    "\n",
    "feature_cols = ['index', 'id', 'age', 'height', 'weight', 'ap_hi', 'ap_lo', 'cholesterol', 'gluc', 'smoke', 'alco', 'active']\n",
    "assembler = VectorAssembler(inputCols=feature_cols, outputCol=\"features\")\n",
    "assembled_data = assembler.transform(merged_df)\n",
    "\n",
    "rf = RandomForestClassifier(featuresCol=\"features\", labelCol=\"cardio\")\n",
    "model = rf.fit(assembled_data)\n",
    "\n",
    "importances = model.featureImportances.toArray()\n",
    "\n",
    "importances_list = [(feature, float(importance)) for feature, importance in zip(feature_cols, importances)]\n",
    "importance_df = spark.createDataFrame(importances_list, [\"Feature\", \"Importance\"])\n",
    "\n",
    "importance_df = importance_df.orderBy(\"Importance\", ascending=False)\n",
    "\n",
    "from pyspark.sql.functions import round\n",
    "\n",
    "importance_df = importance_df.withColumn(\"Importance\", round(importance_df[\"Importance\"], 2))\n",
    "importance_df.show()\n",
    "\n",
    "\n"
   ]
  },
  {
   "cell_type": "code",
   "execution_count": 4,
   "metadata": {},
   "outputs": [
    {
     "name": "stderr",
     "output_type": "stream",
     "text": [
      "                                                                                \r"
     ]
    },
    {
     "data": {
      "text/html": [
       "<div>\n",
       "<style scoped>\n",
       "    .dataframe tbody tr th:only-of-type {\n",
       "        vertical-align: middle;\n",
       "    }\n",
       "\n",
       "    .dataframe tbody tr th {\n",
       "        vertical-align: top;\n",
       "    }\n",
       "\n",
       "    .dataframe thead th {\n",
       "        text-align: right;\n",
       "    }\n",
       "</style>\n",
       "<table border=\"1\" class=\"dataframe\">\n",
       "  <thead>\n",
       "    <tr style=\"text-align: right;\">\n",
       "      <th></th>\n",
       "      <th>summary</th>\n",
       "      <th>id</th>\n",
       "      <th>index</th>\n",
       "      <th>age</th>\n",
       "      <th>gender</th>\n",
       "      <th>height</th>\n",
       "      <th>weight</th>\n",
       "      <th>ap_hi</th>\n",
       "      <th>ap_lo</th>\n",
       "      <th>cholesterol</th>\n",
       "      <th>gluc</th>\n",
       "      <th>smoke</th>\n",
       "      <th>alco</th>\n",
       "      <th>active</th>\n",
       "      <th>cardio</th>\n",
       "    </tr>\n",
       "  </thead>\n",
       "  <tbody>\n",
       "    <tr>\n",
       "      <th>0</th>\n",
       "      <td>count</td>\n",
       "      <td>68056</td>\n",
       "      <td>68056</td>\n",
       "      <td>68056</td>\n",
       "      <td>68056</td>\n",
       "      <td>68056</td>\n",
       "      <td>68056</td>\n",
       "      <td>68056</td>\n",
       "      <td>68056</td>\n",
       "      <td>68056</td>\n",
       "      <td>68056</td>\n",
       "      <td>68056</td>\n",
       "      <td>68056</td>\n",
       "      <td>68056</td>\n",
       "      <td>68056</td>\n",
       "    </tr>\n",
       "    <tr>\n",
       "      <th>1</th>\n",
       "      <td>mean</td>\n",
       "      <td>49961.38948806865</td>\n",
       "      <td>34991.75198366051</td>\n",
       "      <td>19467.796329493358</td>\n",
       "      <td>1.3482132361584578</td>\n",
       "      <td>164.41048548254378</td>\n",
       "      <td>73.72453273774539</td>\n",
       "      <td>126.59862466204302</td>\n",
       "      <td>81.28977606676854</td>\n",
       "      <td>1.3629657928764547</td>\n",
       "      <td>1.2239773128012226</td>\n",
       "      <td>0.08756024450452568</td>\n",
       "      <td>0.05310332667215235</td>\n",
       "      <td>0.8037057717174092</td>\n",
       "      <td>0.4936228987892324</td>\n",
       "    </tr>\n",
       "    <tr>\n",
       "      <th>2</th>\n",
       "      <td>stddev</td>\n",
       "      <td>28838.84055511243</td>\n",
       "      <td>20198.679156291822</td>\n",
       "      <td>2466.8985187743706</td>\n",
       "      <td>0.4764075075852865</td>\n",
       "      <td>7.825610733050222</td>\n",
       "      <td>13.423933068620316</td>\n",
       "      <td>16.517518537922864</td>\n",
       "      <td>9.398565292233743</td>\n",
       "      <td>0.6778290292171032</td>\n",
       "      <td>0.5698690836303668</td>\n",
       "      <td>0.2826563674162662</td>\n",
       "      <td>0.22424116979742773</td>\n",
       "      <td>0.39719657902829786</td>\n",
       "      <td>0.4999630041132576</td>\n",
       "    </tr>\n",
       "    <tr>\n",
       "      <th>3</th>\n",
       "      <td>min</td>\n",
       "      <td>0</td>\n",
       "      <td>0</td>\n",
       "      <td>10798</td>\n",
       "      <td>1</td>\n",
       "      <td>130</td>\n",
       "      <td>30.0</td>\n",
       "      <td>90</td>\n",
       "      <td>40</td>\n",
       "      <td>1</td>\n",
       "      <td>1</td>\n",
       "      <td>0</td>\n",
       "      <td>0</td>\n",
       "      <td>0</td>\n",
       "      <td>0</td>\n",
       "    </tr>\n",
       "    <tr>\n",
       "      <th>4</th>\n",
       "      <td>max</td>\n",
       "      <td>99999</td>\n",
       "      <td>69999</td>\n",
       "      <td>23713</td>\n",
       "      <td>2</td>\n",
       "      <td>207</td>\n",
       "      <td>120.0</td>\n",
       "      <td>220</td>\n",
       "      <td>140</td>\n",
       "      <td>3</td>\n",
       "      <td>3</td>\n",
       "      <td>1</td>\n",
       "      <td>1</td>\n",
       "      <td>1</td>\n",
       "      <td>1</td>\n",
       "    </tr>\n",
       "  </tbody>\n",
       "</table>\n",
       "</div>"
      ],
      "text/plain": [
       "  summary                 id               index                 age  \\\n",
       "0   count              68056               68056               68056   \n",
       "1    mean  49961.38948806865   34991.75198366051  19467.796329493358   \n",
       "2  stddev  28838.84055511243  20198.679156291822  2466.8985187743706   \n",
       "3     min                  0                   0               10798   \n",
       "4     max              99999               69999               23713   \n",
       "\n",
       "               gender              height              weight  \\\n",
       "0               68056               68056               68056   \n",
       "1  1.3482132361584578  164.41048548254378   73.72453273774539   \n",
       "2  0.4764075075852865   7.825610733050222  13.423933068620316   \n",
       "3                   1                 130                30.0   \n",
       "4                   2                 207               120.0   \n",
       "\n",
       "                ap_hi              ap_lo         cholesterol  \\\n",
       "0               68056              68056               68056   \n",
       "1  126.59862466204302  81.28977606676854  1.3629657928764547   \n",
       "2  16.517518537922864  9.398565292233743  0.6778290292171032   \n",
       "3                  90                 40                   1   \n",
       "4                 220                140                   3   \n",
       "\n",
       "                 gluc                smoke                 alco  \\\n",
       "0               68056                68056                68056   \n",
       "1  1.2239773128012226  0.08756024450452568  0.05310332667215235   \n",
       "2  0.5698690836303668   0.2826563674162662  0.22424116979742773   \n",
       "3                   1                    0                    0   \n",
       "4                   3                    1                    1   \n",
       "\n",
       "                active              cardio  \n",
       "0                68056               68056  \n",
       "1   0.8037057717174092  0.4936228987892324  \n",
       "2  0.39719657902829786  0.4999630041132576  \n",
       "3                    0                   0  \n",
       "4                    1                   1  "
      ]
     },
     "execution_count": 4,
     "metadata": {},
     "output_type": "execute_result"
    }
   ],
   "source": [
    "merged_df.describe().toPandas()"
   ]
  },
  {
   "cell_type": "code",
   "execution_count": 5,
   "metadata": {},
   "outputs": [
    {
     "name": "stdout",
     "output_type": "stream",
     "text": [
      "+-------+------------------+\n",
      "|summary|               bmi|\n",
      "+-------+------------------+\n",
      "|  count|             68056|\n",
      "|   mean|27.313671829080924|\n",
      "| stddev| 4.934954139584941|\n",
      "|    min|             10.73|\n",
      "|    max|             58.02|\n",
      "+-------+------------------+\n",
      "\n"
     ]
    }
   ],
   "source": [
    "from pyspark.sql.functions import col, round\n",
    "\n",
    "# Calculate BMI\n",
    "merged_df = merged_df.withColumn(\"bmi\", col(\"weight\") / ((col(\"height\") / 100) ** 2))\n",
    "\n",
    "# Round BMI to 2 decimal places\n",
    "merged_df = merged_df.withColumn(\"bmi\", round(col(\"bmi\"), 2))\n",
    "\n",
    "# Show descriptive statistics for BMI\n",
    "merged_df.describe(\"bmi\").show()\n"
   ]
  },
  {
   "cell_type": "code",
   "execution_count": 6,
   "metadata": {},
   "outputs": [
    {
     "name": "stderr",
     "output_type": "stream",
     "text": [
      "\r",
      "[Stage 38:>                                                         (0 + 1) / 1]\r",
      "\r",
      "                                                                                \r"
     ]
    },
    {
     "name": "stdout",
     "output_type": "stream",
     "text": [
      "+-------+------------------+\n",
      "|summary|               bmi|\n",
      "+-------+------------------+\n",
      "|  count|             68056|\n",
      "|   mean|26.348999059599507|\n",
      "| stddev| 3.571605400963905|\n",
      "|    min|              16.0|\n",
      "|    max|              35.0|\n",
      "+-------+------------------+\n",
      "\n"
     ]
    }
   ],
   "source": [
    "from pyspark.sql.functions import when, col, percentile_approx\n",
    "\n",
    "# Calculate the median of bmi\n",
    "median_bmi = merged_df.approxQuantile(\"bmi\", [0.5], 0.0)[0]  # Using approxQuantile to get the median\n",
    "\n",
    "# Define the conditions for outliers\n",
    "condition = (col(\"bmi\") < 16) | (col(\"bmi\") > 35)\n",
    "\n",
    "# Replace outliers with the median value\n",
    "merged_df = merged_df.withColumn(\"bmi\", when(condition, median_bmi).otherwise(col(\"bmi\")))\n",
    "merged_df.describe(\"bmi\").show()\n"
   ]
  },
  {
   "cell_type": "code",
   "execution_count": 7,
   "metadata": {},
   "outputs": [
    {
     "name": "stdout",
     "output_type": "stream",
     "text": [
      "+---+-----+----+------+------+------+-----+-----+-----------+----+-----+----+------+------+-----+\n",
      "| id|index| age|gender|height|weight|ap_hi|ap_lo|cholesterol|gluc|smoke|alco|active|cardio|  bmi|\n",
      "+---+-----+----+------+------+------+-----+-----+-----------+----+-----+----+------+------+-----+\n",
      "|  0|    0|50.4|     2|   168|  62.0|  110|   80|          1|   1|    0|   0|     1|     0|21.97|\n",
      "|  1|    1|55.4|     1|   156|  85.0|  140|   90|          3|   1|    0|   0|     1|     1|34.93|\n",
      "|  2|    2|51.7|     1|   165|  64.0|  130|   70|          3|   1|    0|   0|     0|     1|23.51|\n",
      "|  3|    3|48.3|     2|   169|  82.0|  150|  100|          1|   1|    0|   0|     1|     1|28.71|\n",
      "|  4|    4|47.9|     1|   156|  56.0|  100|   60|          1|   1|    0|   0|     0|     0|23.01|\n",
      "|  8|    5|60.0|     1|   151|  67.0|  120|   80|          2|   2|    0|   0|     0|     0|29.38|\n",
      "|  9|    6|60.6|     1|   157|  93.0|  130|   80|          3|   1|    0|   0|     1|     0| 26.3|\n",
      "| 12|    7|61.9|     2|   178|  95.0|  130|   90|          3|   3|    0|   0|     1|     1|29.98|\n",
      "| 13|    8|48.4|     1|   158|  71.0|  110|   70|          1|   1|    0|   0|     1|     0|28.44|\n",
      "| 14|    9|54.3|     1|   164|  68.0|  110|   60|          1|   1|    0|   0|     0|     0|25.28|\n",
      "| 15|   10|61.7|     1|   169|  80.0|  120|   80|          1|   1|    0|   0|     1|     0|28.01|\n",
      "| 16|   11|51.5|     2|   173|  60.0|  120|   80|          1|   1|    0|   0|     1|     0|20.05|\n",
      "| 18|   12|40.5|     2|   165|  60.0|  120|   80|          1|   1|    0|   0|     0|     0|22.04|\n",
      "| 21|   13|54.3|     1|   158|  78.0|  110|   70|          1|   1|    0|   0|     1|     0|31.24|\n",
      "| 23|   14|39.8|     2|   181|  95.0|  130|   90|          1|   1|    1|   1|     1|     0| 29.0|\n",
      "| 24|   15|46.0|     2|   172| 112.0|  120|   80|          1|   1|    0|   0|     0|     1| 26.3|\n",
      "| 25|   16|58.3|     1|   170|  75.0|  130|   70|          1|   1|    0|   0|     0|     0|25.95|\n",
      "| 27|   17|45.9|     1|   158|  52.0|  110|   70|          1|   3|    0|   0|     1|     0|20.83|\n",
      "| 28|   18|47.9|     1|   154|  68.0|  100|   70|          1|   1|    0|   0|     0|     0|28.67|\n",
      "| 29|   19|59.6|     2|   162|  56.0|  120|   70|          1|   1|    1|   0|     1|     0|21.34|\n",
      "+---+-----+----+------+------+------+-----+-----+-----------+----+-----+----+------+------+-----+\n",
      "only showing top 20 rows\n",
      "\n"
     ]
    }
   ],
   "source": [
    "from pyspark.sql.functions import col, round\n",
    "\n",
    "# Convert 'age' from days to years and round it to 1 decimal place\n",
    "merged_df = merged_df.withColumn(\"age\", round(col(\"age\") / 365.0, 1))\n",
    "merged_df.show()\n"
   ]
  },
  {
   "cell_type": "code",
   "execution_count": 8,
   "metadata": {},
   "outputs": [
    {
     "name": "stdout",
     "output_type": "stream",
     "text": [
      "+----+------+-----+-----+-----------+----+-----+----+------+------+-----+\n",
      "| age|gender|ap_hi|ap_lo|cholesterol|gluc|smoke|alco|active|cardio|  bmi|\n",
      "+----+------+-----+-----+-----------+----+-----+----+------+------+-----+\n",
      "|50.4|     2|  110|   80|          1|   1|    0|   0|     1|     0|21.97|\n",
      "|55.4|     1|  140|   90|          3|   1|    0|   0|     1|     1|34.93|\n",
      "|51.7|     1|  130|   70|          3|   1|    0|   0|     0|     1|23.51|\n",
      "|48.3|     2|  150|  100|          1|   1|    0|   0|     1|     1|28.71|\n",
      "|47.9|     1|  100|   60|          1|   1|    0|   0|     0|     0|23.01|\n",
      "|60.0|     1|  120|   80|          2|   2|    0|   0|     0|     0|29.38|\n",
      "|60.6|     1|  130|   80|          3|   1|    0|   0|     1|     0| 26.3|\n",
      "|61.9|     2|  130|   90|          3|   3|    0|   0|     1|     1|29.98|\n",
      "|48.4|     1|  110|   70|          1|   1|    0|   0|     1|     0|28.44|\n",
      "|54.3|     1|  110|   60|          1|   1|    0|   0|     0|     0|25.28|\n",
      "|61.7|     1|  120|   80|          1|   1|    0|   0|     1|     0|28.01|\n",
      "|51.5|     2|  120|   80|          1|   1|    0|   0|     1|     0|20.05|\n",
      "|40.5|     2|  120|   80|          1|   1|    0|   0|     0|     0|22.04|\n",
      "|54.3|     1|  110|   70|          1|   1|    0|   0|     1|     0|31.24|\n",
      "|39.8|     2|  130|   90|          1|   1|    1|   1|     1|     0| 29.0|\n",
      "|46.0|     2|  120|   80|          1|   1|    0|   0|     0|     1| 26.3|\n",
      "|58.3|     1|  130|   70|          1|   1|    0|   0|     0|     0|25.95|\n",
      "|45.9|     1|  110|   70|          1|   3|    0|   0|     1|     0|20.83|\n",
      "|47.9|     1|  100|   70|          1|   1|    0|   0|     0|     0|28.67|\n",
      "|59.6|     2|  120|   70|          1|   1|    1|   0|     1|     0|21.34|\n",
      "+----+------+-----+-----+-----------+----+-----+----+------+------+-----+\n",
      "only showing top 20 rows\n",
      "\n"
     ]
    },
    {
     "data": {
      "text/html": [
       "<div>\n",
       "<style scoped>\n",
       "    .dataframe tbody tr th:only-of-type {\n",
       "        vertical-align: middle;\n",
       "    }\n",
       "\n",
       "    .dataframe tbody tr th {\n",
       "        vertical-align: top;\n",
       "    }\n",
       "\n",
       "    .dataframe thead th {\n",
       "        text-align: right;\n",
       "    }\n",
       "</style>\n",
       "<table border=\"1\" class=\"dataframe\">\n",
       "  <thead>\n",
       "    <tr style=\"text-align: right;\">\n",
       "      <th></th>\n",
       "      <th>summary</th>\n",
       "      <th>age</th>\n",
       "      <th>gender</th>\n",
       "      <th>ap_hi</th>\n",
       "      <th>ap_lo</th>\n",
       "      <th>cholesterol</th>\n",
       "      <th>gluc</th>\n",
       "      <th>smoke</th>\n",
       "      <th>alco</th>\n",
       "      <th>active</th>\n",
       "      <th>cardio</th>\n",
       "      <th>bmi</th>\n",
       "    </tr>\n",
       "  </thead>\n",
       "  <tbody>\n",
       "    <tr>\n",
       "      <th>0</th>\n",
       "      <td>count</td>\n",
       "      <td>68056</td>\n",
       "      <td>68056</td>\n",
       "      <td>68056</td>\n",
       "      <td>68056</td>\n",
       "      <td>68056</td>\n",
       "      <td>68056</td>\n",
       "      <td>68056</td>\n",
       "      <td>68056</td>\n",
       "      <td>68056</td>\n",
       "      <td>68056</td>\n",
       "      <td>68056</td>\n",
       "    </tr>\n",
       "    <tr>\n",
       "      <th>1</th>\n",
       "      <td>mean</td>\n",
       "      <td>53.33656694486877</td>\n",
       "      <td>1.3482132361584578</td>\n",
       "      <td>126.59862466204302</td>\n",
       "      <td>81.28977606676854</td>\n",
       "      <td>1.3629657928764547</td>\n",
       "      <td>1.2239773128012226</td>\n",
       "      <td>0.08756024450452568</td>\n",
       "      <td>0.05310332667215235</td>\n",
       "      <td>0.8037057717174092</td>\n",
       "      <td>0.4936228987892324</td>\n",
       "      <td>26.348999059599507</td>\n",
       "    </tr>\n",
       "    <tr>\n",
       "      <th>2</th>\n",
       "      <td>stddev</td>\n",
       "      <td>6.758578870962563</td>\n",
       "      <td>0.4764075075852865</td>\n",
       "      <td>16.517518537922864</td>\n",
       "      <td>9.398565292233743</td>\n",
       "      <td>0.6778290292171032</td>\n",
       "      <td>0.5698690836303668</td>\n",
       "      <td>0.2826563674162662</td>\n",
       "      <td>0.22424116979742773</td>\n",
       "      <td>0.39719657902829786</td>\n",
       "      <td>0.4999630041132576</td>\n",
       "      <td>3.571605400963905</td>\n",
       "    </tr>\n",
       "    <tr>\n",
       "      <th>3</th>\n",
       "      <td>min</td>\n",
       "      <td>29.6</td>\n",
       "      <td>1</td>\n",
       "      <td>90</td>\n",
       "      <td>40</td>\n",
       "      <td>1</td>\n",
       "      <td>1</td>\n",
       "      <td>0</td>\n",
       "      <td>0</td>\n",
       "      <td>0</td>\n",
       "      <td>0</td>\n",
       "      <td>16.0</td>\n",
       "    </tr>\n",
       "    <tr>\n",
       "      <th>4</th>\n",
       "      <td>max</td>\n",
       "      <td>65.0</td>\n",
       "      <td>2</td>\n",
       "      <td>220</td>\n",
       "      <td>140</td>\n",
       "      <td>3</td>\n",
       "      <td>3</td>\n",
       "      <td>1</td>\n",
       "      <td>1</td>\n",
       "      <td>1</td>\n",
       "      <td>1</td>\n",
       "      <td>35.0</td>\n",
       "    </tr>\n",
       "  </tbody>\n",
       "</table>\n",
       "</div>"
      ],
      "text/plain": [
       "  summary                age              gender               ap_hi  \\\n",
       "0   count              68056               68056               68056   \n",
       "1    mean  53.33656694486877  1.3482132361584578  126.59862466204302   \n",
       "2  stddev  6.758578870962563  0.4764075075852865  16.517518537922864   \n",
       "3     min               29.6                   1                  90   \n",
       "4     max               65.0                   2                 220   \n",
       "\n",
       "               ap_lo         cholesterol                gluc  \\\n",
       "0              68056               68056               68056   \n",
       "1  81.28977606676854  1.3629657928764547  1.2239773128012226   \n",
       "2  9.398565292233743  0.6778290292171032  0.5698690836303668   \n",
       "3                 40                   1                   1   \n",
       "4                140                   3                   3   \n",
       "\n",
       "                 smoke                 alco               active  \\\n",
       "0                68056                68056                68056   \n",
       "1  0.08756024450452568  0.05310332667215235   0.8037057717174092   \n",
       "2   0.2826563674162662  0.22424116979742773  0.39719657902829786   \n",
       "3                    0                    0                    0   \n",
       "4                    1                    1                    1   \n",
       "\n",
       "               cardio                 bmi  \n",
       "0               68056               68056  \n",
       "1  0.4936228987892324  26.348999059599507  \n",
       "2  0.4999630041132576   3.571605400963905  \n",
       "3                   0                16.0  \n",
       "4                   1                35.0  "
      ]
     },
     "execution_count": 8,
     "metadata": {},
     "output_type": "execute_result"
    }
   ],
   "source": [
    "# Dropping multiple columns in PySpark\n",
    "merged_df = merged_df.drop('id', 'index', 'height', 'weight')\n",
    "merged_df.show()\n",
    "\n",
    "merged_df.describe().toPandas()"
   ]
  },
  {
   "cell_type": "code",
   "execution_count": 9,
   "metadata": {},
   "outputs": [],
   "source": [
    "from pyspark.sql import SparkSession\n",
    "from pyspark.sql.functions import when, count, col\n",
    "from pyspark.sql import DataFrame\n",
    "def balance_features(df, binary_features, multiclass_features, binary_class_features):\n",
    "    balanced_df = df\n",
    "\n",
    "    # 'active', 'smoke', 'alco'\n",
    "    for feature in binary_features:\n",
    "        high_count = df.filter(col(feature) == 0).count()\n",
    "        low_values = df.filter(col(feature) == 1)\n",
    "        low_values_upsampled = low_values.sample(True, high_count / low_values.count(), seed=42)\n",
    "        balanced_df = df.filter(col(feature) == 0).union(low_values_upsampled)\n",
    "\n",
    "    # 'gluc', 'cholesterol'\n",
    "    for feature in multiclass_features:\n",
    "        feature_categories = [row[feature] for row in df.select(feature).distinct().collect()]\n",
    "        for category in feature_categories:\n",
    "            high_count = df.filter(col(feature) != category).count()\n",
    "            low_values = df.filter(col(feature) == category)\n",
    "            low_values_upsampled = low_values.sample(True, high_count / low_values.count(), seed=42)\n",
    "            balanced_df = df.filter(col(feature) != category).union(low_values_upsampled)\n",
    "\n",
    "    # 'gender'\n",
    "    for feature in binary_class_features:\n",
    "        high_count = df.filter(col(feature) == 1).count()\n",
    "        low_values = df.filter(col(feature) == 2)\n",
    "        low_values_upsampled = low_values.sample(True, high_count / low_values.count(), seed=42)\n",
    "        balanced_df = df.filter(col(feature) == 1).union(low_values_upsampled)\n",
    "\n",
    "    return balanced_df\n",
    "\n",
    "# Create a Spark DataFrame from your original data source\n",
    "# e.g., merged_df = spark.read.csv(\"path_to_your_data.csv\", header=True, inferSchema=True)\n",
    "\n",
    "binary_features = ['active', 'smoke', 'alco']\n",
    "multiclass_features = ['gluc', 'cholesterol']\n",
    "binary_class_features = ['gender']\n",
    "\n",
    "balanced_df = balance_features(merged_df, binary_features, multiclass_features, binary_class_features)\n",
    "\n",
    "\n"
   ]
  },
  {
   "cell_type": "code",
   "execution_count": 10,
   "metadata": {},
   "outputs": [
    {
     "name": "stderr",
     "output_type": "stream",
     "text": [
      "                                                                                \r"
     ]
    },
    {
     "data": {
      "image/png": "[encoded data removed]",
      "text/plain": [
       "<Figure size 432x288 with 1 Axes>"
      ]
     },
     "metadata": {},
     "output_type": "display_data"
    }
   ],
   "source": [
    "from pyspark.sql.functions import col\n",
    "import matplotlib.pyplot as plt\n",
    "\n",
    "# Balance 'cardio'\n",
    "cardio_0_count = balanced_df.filter(col('cardio') == 0).count()\n",
    "cardio_1_values = balanced_df.filter(col('cardio') == 1)\n",
    "cardio_1_upsampled = cardio_1_values.sample(True, cardio_0_count / cardio_1_values.count(), seed=42)\n",
    "balanced_df = balanced_df.filter(col('cardio') == 0).union(cardio_1_upsampled)\n",
    "\n",
    "# Check counts for visualization\n",
    "cardio_counts = balanced_df.groupby('cardio').agg(count('cardio').alias('count')).collect()\n",
    "\n",
    "# Using matplotlib to plot\n",
    "labels = [row['cardio'] for row in cardio_counts]\n",
    "sizes = [row['count'] for row in cardio_counts]\n",
    "plt.pie(sizes, labels=labels, autopct='%1.1f%%')\n",
    "plt.title('Balanced Cardio Counts')\n",
    "plt.show()\n"
   ]
  },
  {
   "cell_type": "code",
   "execution_count": 11,
   "metadata": {},
   "outputs": [
    {
     "name": "stderr",
     "output_type": "stream",
     "text": [
      "                                                                                \r"
     ]
    },
    {
     "data": {
      "text/html": [
       "<div>\n",
       "<style scoped>\n",
       "    .dataframe tbody tr th:only-of-type {\n",
       "        vertical-align: middle;\n",
       "    }\n",
       "\n",
       "    .dataframe tbody tr th {\n",
       "        vertical-align: top;\n",
       "    }\n",
       "\n",
       "    .dataframe thead th {\n",
       "        text-align: right;\n",
       "    }\n",
       "</style>\n",
       "<table border=\"1\" class=\"dataframe\">\n",
       "  <thead>\n",
       "    <tr style=\"text-align: right;\">\n",
       "      <th></th>\n",
       "      <th>summary</th>\n",
       "      <th>age</th>\n",
       "      <th>gender</th>\n",
       "      <th>ap_hi</th>\n",
       "      <th>ap_lo</th>\n",
       "      <th>cholesterol</th>\n",
       "      <th>gluc</th>\n",
       "      <th>smoke</th>\n",
       "      <th>alco</th>\n",
       "      <th>active</th>\n",
       "      <th>cardio</th>\n",
       "      <th>bmi</th>\n",
       "    </tr>\n",
       "  </thead>\n",
       "  <tbody>\n",
       "    <tr>\n",
       "      <th>0</th>\n",
       "      <td>count</td>\n",
       "      <td>89134</td>\n",
       "      <td>89134</td>\n",
       "      <td>89134</td>\n",
       "      <td>89134</td>\n",
       "      <td>89134</td>\n",
       "      <td>89134</td>\n",
       "      <td>89134</td>\n",
       "      <td>89134</td>\n",
       "      <td>89134</td>\n",
       "      <td>89134</td>\n",
       "      <td>89134</td>\n",
       "    </tr>\n",
       "    <tr>\n",
       "      <th>1</th>\n",
       "      <td>mean</td>\n",
       "      <td>53.32032782103335</td>\n",
       "      <td>1.4972849866493145</td>\n",
       "      <td>126.98749074427266</td>\n",
       "      <td>81.51791684430184</td>\n",
       "      <td>1.3563511118091862</td>\n",
       "      <td>1.222137455965176</td>\n",
       "      <td>0.12017860748984675</td>\n",
       "      <td>0.0656988354612157</td>\n",
       "      <td>0.8032176273924653</td>\n",
       "      <td>0.49984293311194383</td>\n",
       "      <td>26.294938743913452</td>\n",
       "    </tr>\n",
       "    <tr>\n",
       "      <th>2</th>\n",
       "      <td>stddev</td>\n",
       "      <td>6.8057299794781</td>\n",
       "      <td>0.49999543339627717</td>\n",
       "      <td>16.510607156574192</td>\n",
       "      <td>9.359611881119623</td>\n",
       "      <td>0.673760567001296</td>\n",
       "      <td>0.5682491513990103</td>\n",
       "      <td>0.32517210221756665</td>\n",
       "      <td>0.24775630595834697</td>\n",
       "      <td>0.39756866543166625</td>\n",
       "      <td>0.5000027801193122</td>\n",
       "      <td>3.544348837773566</td>\n",
       "    </tr>\n",
       "    <tr>\n",
       "      <th>3</th>\n",
       "      <td>min</td>\n",
       "      <td>29.6</td>\n",
       "      <td>1</td>\n",
       "      <td>90</td>\n",
       "      <td>40</td>\n",
       "      <td>1</td>\n",
       "      <td>1</td>\n",
       "      <td>0</td>\n",
       "      <td>0</td>\n",
       "      <td>0</td>\n",
       "      <td>0</td>\n",
       "      <td>16.0</td>\n",
       "    </tr>\n",
       "    <tr>\n",
       "      <th>4</th>\n",
       "      <td>max</td>\n",
       "      <td>65.0</td>\n",
       "      <td>2</td>\n",
       "      <td>220</td>\n",
       "      <td>140</td>\n",
       "      <td>3</td>\n",
       "      <td>3</td>\n",
       "      <td>1</td>\n",
       "      <td>1</td>\n",
       "      <td>1</td>\n",
       "      <td>1</td>\n",
       "      <td>35.0</td>\n",
       "    </tr>\n",
       "  </tbody>\n",
       "</table>\n",
       "</div>"
      ],
      "text/plain": [
       "  summary                age               gender               ap_hi  \\\n",
       "0   count              89134                89134               89134   \n",
       "1    mean  53.32032782103335   1.4972849866493145  126.98749074427266   \n",
       "2  stddev    6.8057299794781  0.49999543339627717  16.510607156574192   \n",
       "3     min               29.6                    1                  90   \n",
       "4     max               65.0                    2                 220   \n",
       "\n",
       "               ap_lo         cholesterol                gluc  \\\n",
       "0              89134               89134               89134   \n",
       "1  81.51791684430184  1.3563511118091862   1.222137455965176   \n",
       "2  9.359611881119623   0.673760567001296  0.5682491513990103   \n",
       "3                 40                   1                   1   \n",
       "4                140                   3                   3   \n",
       "\n",
       "                 smoke                 alco               active  \\\n",
       "0                89134                89134                89134   \n",
       "1  0.12017860748984675   0.0656988354612157   0.8032176273924653   \n",
       "2  0.32517210221756665  0.24775630595834697  0.39756866543166625   \n",
       "3                    0                    0                    0   \n",
       "4                    1                    1                    1   \n",
       "\n",
       "                cardio                 bmi  \n",
       "0                89134               89134  \n",
       "1  0.49984293311194383  26.294938743913452  \n",
       "2   0.5000027801193122   3.544348837773566  \n",
       "3                    0                16.0  \n",
       "4                    1                35.0  "
      ]
     },
     "execution_count": 11,
     "metadata": {},
     "output_type": "execute_result"
    }
   ],
   "source": [
    "balanced_df.describe().toPandas()"
   ]
  },
  {
   "cell_type": "markdown",
   "metadata": {},
   "source": [
    "Great work! At this stage, we're pretty much done with understanding DataFrames. You can now move on to applying an algorithm. We recommend going through linear regression, then logistic regression and finishing off with tree methods. It's best to start with the documentation example before moving to the advanced example. "
   ]
  },
  {
   "cell_type": "code",
   "execution_count": 12,
   "metadata": {},
   "outputs": [
    {
     "name": "stderr",
     "output_type": "stream",
     "text": [
      "                                                                                \r"
     ]
    },
    {
     "data": {
      "image/png": "[encoded data removed]",
      "text/plain": [
       "<Figure size 432x288 with 1 Axes>"
      ]
     },
     "metadata": {
      "needs_background": "light"
     },
     "output_type": "display_data"
    },
    {
     "name": "stderr",
     "output_type": "stream",
     "text": [
      "                                                                                \r"
     ]
    },
    {
     "data": {
      "image/png": "[encoded data removed]",
      "text/plain": [
       "<Figure size 432x288 with 1 Axes>"
      ]
     },
     "metadata": {
      "needs_background": "light"
     },
     "output_type": "display_data"
    },
    {
     "name": "stderr",
     "output_type": "stream",
     "text": [
      "                                                                                \r"
     ]
    },
    {
     "data": {
      "image/png": "[encoded data removed]",
      "text/plain": [
       "<Figure size 432x288 with 1 Axes>"
      ]
     },
     "metadata": {
      "needs_background": "light"
     },
     "output_type": "display_data"
    },
    {
     "name": "stderr",
     "output_type": "stream",
     "text": [
      "                                                                                \r"
     ]
    },
    {
     "data": {
      "image/png": "[encoded data removed]",
      "text/plain": [
       "<Figure size 432x288 with 1 Axes>"
      ]
     },
     "metadata": {
      "needs_background": "light"
     },
     "output_type": "display_data"
    },
    {
     "name": "stderr",
     "output_type": "stream",
     "text": [
      "                                                                                \r"
     ]
    }
   ],
   "source": [
    "\n",
    "from pyspark.sql import functions as F\n",
    "from pyspark.sql.types import DoubleType\n",
    "from pyspark.ml.feature import VectorAssembler\n",
    "from pyspark.ml.stat import Correlation\n",
    "import numpy as np\n",
    "import seaborn as sns\n",
    "import matplotlib.pyplot as plt\n",
    "from scipy.stats import skew\n",
    "\n",
    "# Assuming 'balanced_df' is your DataFrame\n",
    "\n",
    "def plot_kde(df, column_name):\n",
    "    sampled_data = df.select(column_name).rdd.map(lambda row: row[0]).collect()\n",
    "    sns.kdeplot(sampled_data, shade=True)\n",
    "    plt.show()\n",
    "\n",
    "# Plot KDE plots\n",
    "plot_kde(balanced_df, 'age')\n",
    "plot_kde(balanced_df, 'bmi')\n",
    "plot_kde(balanced_df, 'ap_lo')\n",
    "plot_kde(balanced_df, 'ap_hi')\n",
    "\n",
    "# Calculate skewness\n",
    "def calculate_skew(df, column_name):\n",
    "    sampled_data = df.select(column_name).rdd.map(lambda row: row[0]).collect()\n",
    "    return skew(sampled_data)\n",
    "\n",
    "skew_age = calculate_skew(balanced_df, 'age')\n",
    "skew_bmi = calculate_skew(balanced_df, 'bmi')\n",
    "skew_ap_lo = calculate_skew(balanced_df, 'ap_lo')\n",
    "skew_ap_hi = calculate_skew(balanced_df, 'ap_hi')"
   ]
  },
  {
   "cell_type": "code",
   "execution_count": 13,
   "metadata": {},
   "outputs": [
    {
     "name": "stdout",
     "output_type": "stream",
     "text": [
      "Age Skewness: -0.29560255600382285\n",
      "BMI Skewness: 0.2917896901688652\n",
      "ap_lo Skewness: 0.38041770745935255\n",
      "ap_hi Skewness: 0.9591071075674875\n"
     ]
    }
   ],
   "source": [
    "print(\"Age Skewness:\", skew_age)\n",
    "print(\"BMI Skewness:\", skew_bmi)\n",
    "print(\"ap_lo Skewness:\", skew_ap_lo)\n",
    "print(\"ap_hi Skewness:\", skew_ap_hi)"
   ]
  },
  {
   "cell_type": "code",
   "execution_count": 14,
   "metadata": {},
   "outputs": [
    {
     "name": "stderr",
     "output_type": "stream",
     "text": [
      "                                                                                \r"
     ]
    },
    {
     "data": {
      "image/png": "[encoded data removed]",
      "text/plain": [
       "<Figure size 432x288 with 1 Axes>"
      ]
     },
     "metadata": {
      "needs_background": "light"
     },
     "output_type": "display_data"
    },
    {
     "name": "stderr",
     "output_type": "stream",
     "text": [
      "\r",
      "[Stage 199:============================>                            (2 + 2) / 4]\r"
     ]
    },
    {
     "name": "stdout",
     "output_type": "stream",
     "text": [
      "ap_hi Skewness (after transformation): 0.4720612429213762\n"
     ]
    },
    {
     "name": "stderr",
     "output_type": "stream",
     "text": [
      "\r",
      "                                                                                \r"
     ]
    }
   ],
   "source": [
    "balanced_df = balanced_df.withColumn('ap_hi', F.log('ap_hi'))\n",
    "plot_kde(balanced_df, 'ap_hi')\n",
    "skew_ap_hi_after = calculate_skew(balanced_df, 'ap_hi')\n",
    "print(\"ap_hi Skewness (after transformation):\", skew_ap_hi_after)"
   ]
  },
  {
   "cell_type": "code",
   "execution_count": 15,
   "metadata": {},
   "outputs": [
    {
     "name": "stdout",
     "output_type": "stream",
     "text": [
      "Age Skewness: -0.29560255600382285\n",
      "BMI Skewness: 0.2917896901688652\n",
      "ap_lo Skewness: 0.38041770745935255\n",
      "ap_hi Skewness: 0.4720612429213762\n"
     ]
    }
   ],
   "source": [
    "print(\"Age Skewness:\", skew_age)\n",
    "print(\"BMI Skewness:\", skew_bmi)\n",
    "print(\"ap_lo Skewness:\", skew_ap_lo)\n",
    "print(\"ap_hi Skewness:\", skew_ap_hi_after)"
   ]
  },
  {
   "cell_type": "code",
   "execution_count": 16,
   "metadata": {},
   "outputs": [
    {
     "name": "stderr",
     "output_type": "stream",
     "text": [
      "                                                                                \r"
     ]
    },
    {
     "name": "stdout",
     "output_type": "stream",
     "text": [
      "Accuracy: 0.7129546137661557\n",
      "Weighted Precision: 0.7244105765505664\n",
      "Weighted Recall: 0.7129546137661558\n",
      "F1 Score: 0.7093037570784342\n",
      "The actual depth of the tree is: 55\n"
     ]
    },
    {
     "name": "stderr",
     "output_type": "stream",
     "text": [
      "                                                                                \r"
     ]
    },
    {
     "data": {
      "image/png": "[encoded data removed]",
      "text/plain": [
       "<Figure size 576x432 with 2 Axes>"
      ]
     },
     "metadata": {
      "needs_background": "light"
     },
     "output_type": "display_data"
    }
   ],
   "source": [
    "from pyspark.sql import SparkSession\n",
    "from pyspark.ml import Pipeline\n",
    "from pyspark.ml.feature import VectorAssembler\n",
    "from pyspark.ml.classification import DecisionTreeClassifier\n",
    "from pyspark.ml.evaluation import MulticlassClassificationEvaluator\n",
    "\n",
    "feature_columns = ['bmi', 'ap_lo', 'ap_hi']\n",
    "assembler = VectorAssembler(inputCols=feature_columns, outputCol=\"features\")\n",
    "data = assembler.transform(balanced_df)\n",
    "\n",
    "# Split the data\n",
    "(train_data, test_data) = data.randomSplit([0.7, 0.3])\n",
    "\n",
    "# Create and fit the Decision Tree model\n",
    "tree_model = DecisionTreeClassifier(featuresCol=\"features\", labelCol=\"cardio\",minInstancesPerNode=8)\n",
    "model = tree_model.fit(train_data)\n",
    "\n",
    "# Make predictions\n",
    "predictions = model.transform(test_data)\n",
    "\n",
    "# Evaluate the model\n",
    "evaluator = MulticlassClassificationEvaluator(labelCol=\"cardio\", predictionCol=\"prediction\", metricName=\"accuracy\")\n",
    "accuracy = evaluator.evaluate(predictions, {evaluator.metricName: \"accuracy\"})\n",
    "precision = evaluator.evaluate(predictions, {evaluator.metricName: \"weightedPrecision\"})\n",
    "recall = evaluator.evaluate(predictions, {evaluator.metricName: \"weightedRecall\"})\n",
    "f1 = evaluator.evaluate(predictions, {evaluator.metricName: \"f1\"})\n",
    "\n",
    "print(f\"Accuracy: {accuracy}\")\n",
    "print(f\"Weighted Precision: {precision}\")\n",
    "print(f\"Weighted Recall: {recall}\")\n",
    "print(f\"F1 Score: {f1}\")\n",
    "\n",
    "tree_string = model.toDebugString\n",
    "tree_depth = tree_string.count('\\n') - 1\n",
    "print(f'The actual depth of the tree is: {tree_depth}')\n",
    "\n",
    "\n",
    "# Confusion matrix (assuming binary classification 0 and 1)\n",
    "tp = predictions.filter(\"cardio = 1 and prediction = 1\").count()\n",
    "tn = predictions.filter(\"cardio = 0 and prediction = 0\").count()\n",
    "fp = predictions.filter(\"cardio = 0 and prediction = 1\").count()\n",
    "fn = predictions.filter(\"cardio = 1 and prediction = 0\").count()\n",
    "\n",
    "# Display confusion matrix (using matplotlib and seaborn for visualization)\n",
    "import matplotlib.pyplot as plt\n",
    "import seaborn as sns\n",
    "\n",
    "conf_matrix = [[tn, fp], [fn, tp]]\n",
    "plt.figure(figsize=(8, 6))\n",
    "sns.heatmap(conf_matrix, annot=True, fmt='d', cmap='Blues', \n",
    "            xticklabels=['0', '1'], yticklabels=['0', '1'])\n",
    "plt.xlabel('Predicted')\n",
    "plt.ylabel('Actual')\n",
    "plt.title('Confusion Matrix')\n",
    "plt.show()\n",
    "\n",
    "\n",
    "\n",
    "\n"
   ]
  },
  {
   "cell_type": "code",
   "execution_count": 17,
   "metadata": {},
   "outputs": [
    {
     "name": "stderr",
     "output_type": "stream",
     "text": [
      "23/10/09 08:10:56 WARN InstanceBuilder$NativeBLAS: Failed to load implementation from:dev.ludovic.netlib.blas.JNIBLAS\n",
      "23/10/09 08:10:56 WARN InstanceBuilder$NativeBLAS: Failed to load implementation from:dev.ludovic.netlib.blas.ForeignLinkerBLAS\n",
      "                                                                                \r"
     ]
    },
    {
     "name": "stdout",
     "output_type": "stream",
     "text": [
      "Accuracy: 0.6289298782764543\n",
      "Weighted Precision: 0.6295306360128994\n",
      "Weighted Recall: 0.6289298782764543\n",
      "F1 Score: 0.6286820835263482\n"
     ]
    },
    {
     "name": "stderr",
     "output_type": "stream",
     "text": [
      "\r",
      "[Stage 313:============================>                            (2 + 2) / 4]\r",
      "\r",
      "                                                                                \r"
     ]
    }
   ],
   "source": [
    "from pyspark.ml.feature import VectorAssembler\n",
    "from pyspark.ml.classification import LogisticRegression\n",
    "from pyspark.ml.evaluation import BinaryClassificationEvaluator\n",
    "\n",
    "# Convert feature columns to a single vector column\n",
    "feature_columns = ['active','smoke','alco','gluc','cholesterol','gender','age']\n",
    "assembler = VectorAssembler(inputCols=feature_columns, outputCol=\"features\")\n",
    "data = assembler.transform(balanced_df)  \n",
    "\n",
    "# Split the data\n",
    "(train_data, test_data) = data.randomSplit([0.7, 0.3])\n",
    "\n",
    "# Create and fit the Logistic Regression model\n",
    "lr = LogisticRegression(featuresCol=\"features\", labelCol=\"cardio\")\n",
    "lr_model = lr.fit(train_data)\n",
    "\n",
    "# Make predictions\n",
    "predictions = lr_model.transform(test_data)\n",
    "\n",
    "# Evaluate the model's accuracy\n",
    "evaluator = MulticlassClassificationEvaluator(labelCol=\"cardio\", predictionCol=\"prediction\", metricName=\"accuracy\")\n",
    "accuracy = evaluator.evaluate(predictions, {evaluator.metricName: \"accuracy\"})\n",
    "weighted_precision = evaluator.evaluate(predictions, {evaluator.metricName: \"weightedPrecision\"})\n",
    "weighted_recall = evaluator.evaluate(predictions, {evaluator.metricName: \"weightedRecall\"})\n",
    "f1 = evaluator.evaluate(predictions, {evaluator.metricName: \"f1\"})\n",
    "\n",
    "print(f\"Accuracy: {accuracy}\")\n",
    "print(f\"Weighted Precision: {weighted_precision}\")\n",
    "print(f\"Weighted Recall: {weighted_recall}\")\n",
    "print(f\"F1 Score: {f1}\")\n"
   ]
  },
  {
   "cell_type": "code",
   "execution_count": 18,
   "metadata": {},
   "outputs": [
    {
     "name": "stderr",
     "output_type": "stream",
     "text": [
      "                                                                                \r"
     ]
    },
    {
     "name": "stdout",
     "output_type": "stream",
     "text": [
      "Accuracy: 0.6198427555222763\n",
      "Weighted Precision: 0.6237563527031649\n",
      "Weighted Recall: 0.6198427555222763\n",
      "F1 Score: 0.6166089515900992\n",
      "The actual depth of the tree is: 43\n"
     ]
    },
    {
     "name": "stderr",
     "output_type": "stream",
     "text": [
      "                                                                                \r"
     ]
    },
    {
     "data": {
      "image/png": "[encoded data removed]",
      "text/plain": [
       "<Figure size 576x432 with 2 Axes>"
      ]
     },
     "metadata": {
      "needs_background": "light"
     },
     "output_type": "display_data"
    }
   ],
   "source": [
    "from pyspark.sql import SparkSession\n",
    "from pyspark.ml import Pipeline\n",
    "from pyspark.ml.feature import VectorAssembler\n",
    "from pyspark.ml.classification import DecisionTreeClassifier\n",
    "from pyspark.ml.evaluation import MulticlassClassificationEvaluator\n",
    "\n",
    "feature_columns = ['active','smoke','alco','gluc','cholesterol','gender','age']\n",
    "assembler = VectorAssembler(inputCols=feature_columns, outputCol=\"features\")\n",
    "data = assembler.transform(balanced_df)\n",
    "\n",
    "# Split the data\n",
    "(train_data, test_data) = data.randomSplit([0.7, 0.3])\n",
    "\n",
    "# Create and fit the Decision Tree model\n",
    "tree_model = DecisionTreeClassifier(featuresCol=\"features\", labelCol=\"cardio\",minInstancesPerNode=8)\n",
    "model = tree_model.fit(train_data)\n",
    "\n",
    "# Make predictions\n",
    "predictions = model.transform(test_data)\n",
    "\n",
    "# Evaluate the model\n",
    "evaluator = MulticlassClassificationEvaluator(labelCol=\"cardio\", predictionCol=\"prediction\", metricName=\"accuracy\")\n",
    "accuracy = evaluator.evaluate(predictions, {evaluator.metricName: \"accuracy\"})\n",
    "precision = evaluator.evaluate(predictions, {evaluator.metricName: \"weightedPrecision\"})\n",
    "recall = evaluator.evaluate(predictions, {evaluator.metricName: \"weightedRecall\"})\n",
    "f1 = evaluator.evaluate(predictions, {evaluator.metricName: \"f1\"})\n",
    "\n",
    "print(f\"Accuracy: {accuracy}\")\n",
    "print(f\"Weighted Precision: {precision}\")\n",
    "print(f\"Weighted Recall: {recall}\")\n",
    "print(f\"F1 Score: {f1}\")\n",
    "\n",
    "tree_string = model.toDebugString\n",
    "tree_depth = tree_string.count('\\n') - 1\n",
    "print(f'The actual depth of the tree is: {tree_depth}')\n",
    "\n",
    "\n",
    "# Confusion matrix (assuming binary classification 0 and 1)\n",
    "tp = predictions.filter(\"cardio = 1 and prediction = 1\").count()\n",
    "tn = predictions.filter(\"cardio = 0 and prediction = 0\").count()\n",
    "fp = predictions.filter(\"cardio = 0 and prediction = 1\").count()\n",
    "fn = predictions.filter(\"cardio = 1 and prediction = 0\").count()\n",
    "\n",
    "# Display confusion matrix (using matplotlib and seaborn for visualization)\n",
    "import matplotlib.pyplot as plt\n",
    "import seaborn as sns\n",
    "\n",
    "conf_matrix = [[tn, fp], [fn, tp]]\n",
    "plt.figure(figsize=(8, 6))\n",
    "sns.heatmap(conf_matrix, annot=True, fmt='d', cmap='Blues', \n",
    "            xticklabels=['0', '1'], yticklabels=['0', '1'])\n",
    "plt.xlabel('Predicted')\n",
    "plt.ylabel('Actual')\n",
    "plt.title('Confusion Matrix')\n",
    "plt.show()\n"
   ]
  },
  {
   "cell_type": "code",
   "execution_count": 29,
   "metadata": {},
   "outputs": [
    {
     "name": "stderr",
     "output_type": "stream",
     "text": [
      "                                                                                \r"
     ]
    },
    {
     "name": "stdout",
     "output_type": "stream",
     "text": [
      "Accuracy: 0.7266723874193187\n",
      "Weighted Precision: 0.7268852433969908\n",
      "Weighted Recall: 0.7266723874193187\n",
      "F1 Score: 0.7266505798008951\n",
      "The actual depth of the tree is: 49\n"
     ]
    },
    {
     "name": "stderr",
     "output_type": "stream",
     "text": [
      "                                                                                \r"
     ]
    },
    {
     "data": {
      "image/png": "[encoded data removed]",
      "text/plain": [
       "<Figure size 576x432 with 2 Axes>"
      ]
     },
     "metadata": {
      "needs_background": "light"
     },
     "output_type": "display_data"
    },
    {
     "name": "stdout",
     "output_type": "stream",
     "text": [
      "True Negatives (TN): 9819\n",
      "False Positives (FP): 3485\n",
      "False Negatives (FN): 3841\n",
      "True Positives (TP): 9658\n"
     ]
    }
   ],
   "source": [
    "from pyspark.sql import SparkSession\n",
    "from pyspark.ml import Pipeline\n",
    "from pyspark.ml.feature import VectorAssembler\n",
    "from pyspark.ml.classification import DecisionTreeClassifier\n",
    "from pyspark.ml.evaluation import MulticlassClassificationEvaluator\n",
    "\n",
    "feature_columns = ['bmi', 'ap_lo', 'ap_hi','active','smoke','alco','gluc','cholesterol','gender','age']\n",
    "assembler = VectorAssembler(inputCols=feature_columns, outputCol=\"features\")\n",
    "data = assembler.transform(balanced_df)\n",
    "\n",
    "# Split the data\n",
    "(train_data, test_data) = data.randomSplit([0.7, 0.3])\n",
    "\n",
    "# Create and fit the Decision Tree model\n",
    "tree_model = DecisionTreeClassifier(featuresCol=\"features\", labelCol=\"cardio\")\n",
    "model = tree_model.fit(train_data)\n",
    "\n",
    "# Make predictions\n",
    "predictions = model.transform(test_data)\n",
    "\n",
    "# Evaluate the model\n",
    "evaluator = MulticlassClassificationEvaluator(labelCol=\"cardio\", predictionCol=\"prediction\", metricName=\"accuracy\")\n",
    "accuracy = evaluator.evaluate(predictions, {evaluator.metricName: \"accuracy\"})\n",
    "precision = evaluator.evaluate(predictions, {evaluator.metricName: \"weightedPrecision\"})\n",
    "recall = evaluator.evaluate(predictions, {evaluator.metricName: \"weightedRecall\"})\n",
    "f1 = evaluator.evaluate(predictions, {evaluator.metricName: \"f1\"})\n",
    "\n",
    "print(f\"Accuracy: {accuracy}\")\n",
    "print(f\"Weighted Precision: {precision}\")\n",
    "print(f\"Weighted Recall: {recall}\")\n",
    "print(f\"F1 Score: {f1}\")\n",
    "\n",
    "tree_string = model.toDebugString\n",
    "tree_depth = tree_string.count('\\n') - 1\n",
    "print(f'The actual depth of the tree is: {tree_depth}')\n",
    "\n",
    "\n",
    "# Confusion matrix (assuming binary classification 0 and 1)\n",
    "tp = predictions.filter(\"cardio = 1 and prediction = 1\").count()\n",
    "tn = predictions.filter(\"cardio = 0 and prediction = 0\").count()\n",
    "fp = predictions.filter(\"cardio = 0 and prediction = 1\").count()\n",
    "fn = predictions.filter(\"cardio = 1 and prediction = 0\").count()\n",
    "\n",
    "# Display confusion matrix (using matplotlib and seaborn for visualization)\n",
    "import matplotlib.pyplot as plt\n",
    "import seaborn as sns\n",
    "\n",
    "conf_matrix = [[tn, fp], [fn, tp]]\n",
    "plt.figure(figsize=(8, 6))\n",
    "sns.heatmap(conf_matrix, annot=True, fmt='d', cmap='Blues', \n",
    "            xticklabels=['0', '1'], yticklabels=['0', '1'])\n",
    "plt.xlabel('Predicted')\n",
    "plt.ylabel('Actual')\n",
    "plt.title('Confusion Matrix')\n",
    "plt.show()\n",
    "tn, fp = conf_matrix[0]\n",
    "fn, tp = conf_matrix[1]\n",
    "\n",
    "print(f\"True Negatives (TN): {tn}\")\n",
    "print(f\"False Positives (FP): {fp}\")\n",
    "print(f\"False Negatives (FN): {fn}\")\n",
    "print(f\"True Positives (TP): {tp}\")\n"
   ]
  },
  {
   "cell_type": "code",
   "execution_count": 27,
   "metadata": {},
   "outputs": [
    {
     "name": "stderr",
     "output_type": "stream",
     "text": [
      "                                                                                \r"
     ]
    },
    {
     "name": "stdout",
     "output_type": "stream",
     "text": [
      "Accuracy: 0.7325311141100614\n",
      "Weighted Precision: 0.7353962835028296\n",
      "Weighted Recall: 0.7325311141100614\n",
      "F1 Score: 0.7316850513480491\n",
      "The actual depth of the tree is: 52\n"
     ]
    },
    {
     "name": "stderr",
     "output_type": "stream",
     "text": [
      "                                                                                \r"
     ]
    },
    {
     "data": {
      "image/png": "[encoded data removed]",
      "text/plain": [
       "<Figure size 576x432 with 2 Axes>"
      ]
     },
     "metadata": {
      "needs_background": "light"
     },
     "output_type": "display_data"
    },
    {
     "name": "stdout",
     "output_type": "stream",
     "text": [
      "True Negatives (TN): 10528\n",
      "False Positives (FP): 2827\n",
      "False Negatives (FN): 4308\n",
      "True Positives (TP): 9013\n"
     ]
    }
   ],
   "source": [
    "from pyspark.sql import SparkSession\n",
    "from pyspark.ml import Pipeline\n",
    "from pyspark.ml.feature import VectorAssembler\n",
    "from pyspark.ml.classification import DecisionTreeClassifier\n",
    "from pyspark.ml.evaluation import MulticlassClassificationEvaluator\n",
    "\n",
    "feature_columns = ['bmi', 'ap_lo', 'ap_hi','active','smoke','alco','gluc','cholesterol','gender','age']\n",
    "assembler = VectorAssembler(inputCols=feature_columns, outputCol=\"features\")\n",
    "data = assembler.transform(balanced_df)\n",
    "\n",
    "# Split the data\n",
    "(train_data, test_data) = data.randomSplit([0.8, 0.2])\n",
    "\n",
    "# Create and fit the Decision Tree model\n",
    "tree_model = DecisionTreeClassifier(featuresCol=\"features\", labelCol=\"cardio\")\n",
    "model = tree_model.fit(train_data)\n",
    "\n",
    "# Make predictions\n",
    "predictions = model.transform(test_data)\n",
    "\n",
    "# Evaluate the model\n",
    "evaluator = MulticlassClassificationEvaluator(labelCol=\"cardio\", predictionCol=\"prediction\", metricName=\"accuracy\")\n",
    "accuracy = evaluator.evaluate(predictions, {evaluator.metricName: \"accuracy\"})\n",
    "precision = evaluator.evaluate(predictions, {evaluator.metricName: \"weightedPrecision\"})\n",
    "recall = evaluator.evaluate(predictions, {evaluator.metricName: \"weightedRecall\"})\n",
    "f1 = evaluator.evaluate(predictions, {evaluator.metricName: \"f1\"})\n",
    "\n",
    "print(f\"Accuracy: {accuracy}\")\n",
    "print(f\"Weighted Precision: {precision}\")\n",
    "print(f\"Weighted Recall: {recall}\")\n",
    "print(f\"F1 Score: {f1}\")\n",
    "\n",
    "tree_string = model.toDebugString\n",
    "tree_depth = tree_string.count('\\n') - 1\n",
    "print(f'The actual depth of the tree is: {tree_depth}')\n",
    "\n",
    "\n",
    "# Confusion matrix (assuming binary classification 0 and 1)\n",
    "tp = predictions.filter(\"cardio = 1 and prediction = 1\").count()\n",
    "tn = predictions.filter(\"cardio = 0 and prediction = 0\").count()\n",
    "fp = predictions.filter(\"cardio = 0 and prediction = 1\").count()\n",
    "fn = predictions.filter(\"cardio = 1 and prediction = 0\").count()\n",
    "\n",
    "# Display confusion matrix (using matplotlib and seaborn for visualization)\n",
    "import matplotlib.pyplot as plt\n",
    "import seaborn as sns\n",
    "\n",
    "conf_matrix = [[tn, fp], [fn, tp]]\n",
    "plt.figure(figsize=(8, 6))\n",
    "sns.heatmap(conf_matrix, annot=True, fmt='d', cmap='Blues', \n",
    "            xticklabels=['0', '1'], yticklabels=['0', '1'])\n",
    "plt.xlabel('Predicted')\n",
    "plt.ylabel('Actual')\n",
    "plt.title('Confusion Matrix')\n",
    "plt.show()\n",
    "tn, fp = conf_matrix[0]\n",
    "fn, tp = conf_matrix[1]\n",
    "\n",
    "print(f\"True Negatives (TN): {tn}\")\n",
    "print(f\"False Positives (FP): {fp}\")\n",
    "print(f\"False Negatives (FN): {fn}\")\n",
    "print(f\"True Positives (TP): {tp}\")\n"
   ]
  },
  {
   "cell_type": "code",
   "execution_count": 21,
   "metadata": {},
   "outputs": [
    {
     "name": "stderr",
     "output_type": "stream",
     "text": [
      "                                                                                \r"
     ]
    },
    {
     "name": "stdout",
     "output_type": "stream",
     "text": [
      "Accuracy: 0.7138827246398616\n",
      "Weighted Precision: 0.7200775270836575\n",
      "Weighted Recall: 0.7138827246398616\n",
      "F1 Score: 0.7117358202383004\n"
     ]
    },
    {
     "name": "stderr",
     "output_type": "stream",
     "text": [
      "\r",
      "[Stage 567:============================>                            (2 + 2) / 4]\r",
      "\r",
      "                                                                                \r"
     ]
    }
   ],
   "source": [
    "from pyspark.ml.feature import VectorAssembler\n",
    "from pyspark.ml.classification import LogisticRegression\n",
    "from pyspark.ml.evaluation import BinaryClassificationEvaluator\n",
    "\n",
    "# Convert feature columns to a single vector column\n",
    "feature_columns = ['bmi', 'ap_lo', 'ap_hi']\n",
    "assembler = VectorAssembler(inputCols=feature_columns, outputCol=\"features\")\n",
    "data = assembler.transform(balanced_df)  \n",
    "\n",
    "# Split the data\n",
    "(train_data, test_data) = data.randomSplit([0.7, 0.3])\n",
    "\n",
    "# Create and fit the Logistic Regression model\n",
    "lr = LogisticRegression(featuresCol=\"features\", labelCol=\"cardio\")\n",
    "lr_model = lr.fit(train_data)\n",
    "\n",
    "# Make predictions\n",
    "predictions = lr_model.transform(test_data)\n",
    "\n",
    "# Evaluate the model's accuracy\n",
    "evaluator = MulticlassClassificationEvaluator(labelCol=\"cardio\", predictionCol=\"prediction\", metricName=\"accuracy\")\n",
    "accuracy = evaluator.evaluate(predictions, {evaluator.metricName: \"accuracy\"})\n",
    "weighted_precision = evaluator.evaluate(predictions, {evaluator.metricName: \"weightedPrecision\"})\n",
    "weighted_recall = evaluator.evaluate(predictions, {evaluator.metricName: \"weightedRecall\"})\n",
    "f1 = evaluator.evaluate(predictions, {evaluator.metricName: \"f1\"})\n",
    "\n",
    "print(f\"Accuracy: {accuracy}\")\n",
    "print(f\"Weighted Precision: {weighted_precision}\")\n",
    "print(f\"Weighted Recall: {weighted_recall}\")\n",
    "print(f\"F1 Score: {f1}\")\n"
   ]
  },
  {
   "cell_type": "code",
   "execution_count": 34,
   "metadata": {},
   "outputs": [
    {
     "name": "stderr",
     "output_type": "stream",
     "text": [
      "                                                                                \r"
     ]
    },
    {
     "name": "stdout",
     "output_type": "stream",
     "text": [
      "Accuracy: 0.7248890226469039\n",
      "Weighted Precision: 0.7278948661173008\n",
      "Weighted Recall: 0.7248890226469039\n",
      "F1 Score: 0.7240091857940515\n"
     ]
    },
    {
     "data": {
      "image/png": "[encoded data removed]",
      "text/plain": [
       "<Figure size 576x432 with 2 Axes>"
      ]
     },
     "metadata": {
      "needs_background": "light"
     },
     "output_type": "display_data"
    },
    {
     "name": "stdout",
     "output_type": "stream",
     "text": [
      "Coefficients:\n",
      "bmi: 0.03653461723985431\n",
      "ap_lo: 0.012532331113925441\n",
      "ap_hi: 7.365464191673539\n",
      "active: -0.2698874164185303\n",
      "smoke: -0.14635643122258762\n",
      "alco: -0.17326705115795296\n",
      "gluc: -0.13145954687858438\n",
      "cholesterol: 0.5062078071048827\n",
      "gender: -0.008857982317578872\n",
      "age: 0.050064428160266516\n",
      "\n",
      "Intercept: -40.50775031664189\n"
     ]
    },
    {
     "ename": "AttributeError",
     "evalue": "'BinaryLogisticRegressionTrainingSummary' object has no attribute 'coefficientStandardErrors'",
     "output_type": "error",
     "traceback": [
      "\u001b[0;31m---------------------------------------------------------------------------\u001b[0m",
      "\u001b[0;31mAttributeError\u001b[0m                            Traceback (most recent call last)",
      "Input \u001b[0;32mIn [34]\u001b[0m, in \u001b[0;36m<cell line: 55>\u001b[0;34m()\u001b[0m\n\u001b[1;32m     53\u001b[0m z_value \u001b[38;5;241m=\u001b[39m \u001b[38;5;241m1.96\u001b[39m\n\u001b[1;32m     54\u001b[0m coefficients \u001b[38;5;241m=\u001b[39m lr_model\u001b[38;5;241m.\u001b[39mcoefficients\u001b[38;5;241m.\u001b[39mtoArray()\u001b[38;5;241m.\u001b[39mtolist()\n\u001b[0;32m---> 55\u001b[0m standard_errors \u001b[38;5;241m=\u001b[39m \u001b[43mtrainingSummary\u001b[49m\u001b[38;5;241;43m.\u001b[39;49m\u001b[43mcoefficientStandardErrors\u001b[49m[:\u001b[38;5;241m-\u001b[39m\u001b[38;5;241m1\u001b[39m]  \u001b[38;5;66;03m# exclude intercept\u001b[39;00m\n\u001b[1;32m     56\u001b[0m upper_bounds \u001b[38;5;241m=\u001b[39m [coef \u001b[38;5;241m+\u001b[39m z_value \u001b[38;5;241m*\u001b[39m se \u001b[38;5;28;01mfor\u001b[39;00m coef, se \u001b[38;5;129;01min\u001b[39;00m \u001b[38;5;28mzip\u001b[39m(coefficients, standard_errors)]\n\u001b[1;32m     57\u001b[0m lower_bounds \u001b[38;5;241m=\u001b[39m [coef \u001b[38;5;241m-\u001b[39m z_value \u001b[38;5;241m*\u001b[39m se \u001b[38;5;28;01mfor\u001b[39;00m coef, se \u001b[38;5;129;01min\u001b[39;00m \u001b[38;5;28mzip\u001b[39m(coefficients, standard_errors)]\n",
      "\u001b[0;31mAttributeError\u001b[0m: 'BinaryLogisticRegressionTrainingSummary' object has no attribute 'coefficientStandardErrors'"
     ]
    }
   ],
   "source": [
    "from pyspark.ml.feature import VectorAssembler\n",
    "from pyspark.ml.classification import LogisticRegression\n",
    "from pyspark.ml.evaluation import BinaryClassificationEvaluator\n",
    "\n",
    "# Convert feature columns to a single vector column\n",
    "feature_columns = ['bmi', 'ap_lo', 'ap_hi','active','smoke','alco','gluc','cholesterol','gender','age']\n",
    "assembler = VectorAssembler(inputCols=feature_columns, outputCol=\"features\")\n",
    "data = assembler.transform(balanced_df)  \n",
    "\n",
    "# Split the data\n",
    "(train_data, test_data) = data.randomSplit([0.7, 0.3])\n",
    "\n",
    "# Create and fit the Logistic Regression model\n",
    "lr = LogisticRegression(featuresCol=\"features\", labelCol=\"cardio\")\n",
    "lr_model = lr.fit(train_data)\n",
    "\n",
    "# Make predictions\n",
    "predictions = lr_model.transform(test_data)\n",
    "\n",
    "# Evaluate the model's accuracy\n",
    "evaluator = MulticlassClassificationEvaluator(labelCol=\"cardio\", predictionCol=\"prediction\", metricName=\"accuracy\")\n",
    "accuracy = evaluator.evaluate(predictions, {evaluator.metricName: \"accuracy\"})\n",
    "weighted_precision = evaluator.evaluate(predictions, {evaluator.metricName: \"weightedPrecision\"})\n",
    "weighted_recall = evaluator.evaluate(predictions, {evaluator.metricName: \"weightedRecall\"})\n",
    "f1 = evaluator.evaluate(predictions, {evaluator.metricName: \"f1\"})\n",
    "\n",
    "print(f\"Accuracy: {accuracy}\")\n",
    "print(f\"Weighted Precision: {weighted_precision}\")\n",
    "print(f\"Weighted Recall: {weighted_recall}\")\n",
    "print(f\"F1 Score: {f1}\")\n",
    "import matplotlib.pyplot as plt\n",
    "import seaborn as sns\n",
    "\n",
    "conf_matrix = [[tn, fp], [fn, tp]]\n",
    "plt.figure(figsize=(8, 6))\n",
    "sns.heatmap(conf_matrix, annot=True, fmt='d', cmap='Blues', \n",
    "            xticklabels=['0', '1'], yticklabels=['0', '1'])\n",
    "plt.xlabel('Predicted')\n",
    "plt.ylabel('Actual')\n",
    "plt.title('Confusion Matrix')\n",
    "plt.show()\n",
    "\n",
    "\n",
    "print(\"Coefficients:\")\n",
    "for feature, coeff in zip(feature_columns, lr_model.coefficients):\n",
    "    print(f\"{feature}: {coeff}\")\n",
    "print(\"\\nIntercept:\", lr_model.intercept)\n",
    "\n",
    "\n"
   ]
  },
  {
   "cell_type": "code",
   "execution_count": 32,
   "metadata": {},
   "outputs": [
    {
     "ename": "AttributeError",
     "evalue": "'BinaryLogisticRegressionTrainingSummary' object has no attribute 'pValues'",
     "output_type": "error",
     "traceback": [
      "\u001b[0;31m---------------------------------------------------------------------------\u001b[0m",
      "\u001b[0;31mAttributeError\u001b[0m                            Traceback (most recent call last)",
      "Input \u001b[0;32mIn [32]\u001b[0m, in \u001b[0;36m<cell line: 9>\u001b[0;34m()\u001b[0m\n\u001b[1;32m      6\u001b[0m trainingSummary \u001b[38;5;241m=\u001b[39m lr_model\u001b[38;5;241m.\u001b[39msummary\n\u001b[1;32m      8\u001b[0m \u001b[38;5;66;03m# p-values\u001b[39;00m\n\u001b[0;32m----> 9\u001b[0m p_values \u001b[38;5;241m=\u001b[39m \u001b[43mtrainingSummary\u001b[49m\u001b[38;5;241;43m.\u001b[39;49m\u001b[43mpValues\u001b[49m\n\u001b[1;32m     11\u001b[0m \u001b[38;5;66;03m# 打印p-values\u001b[39;00m\n\u001b[1;32m     12\u001b[0m \u001b[38;5;28;01mfor\u001b[39;00m feature, p_val \u001b[38;5;129;01min\u001b[39;00m \u001b[38;5;28mzip\u001b[39m([\u001b[38;5;124m'\u001b[39m\u001b[38;5;124mIntercept\u001b[39m\u001b[38;5;124m'\u001b[39m] \u001b[38;5;241m+\u001b[39m feature_columns, p_values):\n",
      "\u001b[0;31mAttributeError\u001b[0m: 'BinaryLogisticRegressionTrainingSummary' object has no attribute 'pValues'"
     ]
    }
   ],
   "source": []
  },
  {
   "cell_type": "code",
   "execution_count": null,
   "metadata": {},
   "outputs": [],
   "source": []
  }
 ],
 "metadata": {
  "kernelspec": {
   "display_name": "Python 3 (ipykernel)",
   "language": "python",
   "name": "python3"
  },
  "language_info": {
   "codemirror_mode": {
    "name": "ipython",
    "version": 3
   },
   "file_extension": ".py",
   "mimetype": "text/x-python",
   "name": "python",
   "nbconvert_exporter": "python",
   "pygments_lexer": "ipython3",
   "version": "3.10.4"
  }
 },
 "nbformat": 4,
 "nbformat_minor": 2
}
